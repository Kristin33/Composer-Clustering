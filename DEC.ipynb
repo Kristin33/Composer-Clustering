{
  "nbformat": 4,
  "nbformat_minor": 0,
  "metadata": {
    "colab": {
      "name": "DEC.ipynb",
      "provenance": [],
      "collapsed_sections": [],
      "toc_visible": true,
      "include_colab_link": true
    },
    "kernelspec": {
      "name": "python3",
      "display_name": "Python 3"
    },
    "accelerator": "GPU"
  },
  "cells": [
    {
      "cell_type": "markdown",
      "metadata": {
        "id": "view-in-github",
        "colab_type": "text"
      },
      "source": [
        "<a href=\"https://colab.research.google.com/github/Kristin33/Composer-Clustering/blob/master/DEC.ipynb\" target=\"_parent\"><img src=\"https://colab.research.google.com/assets/colab-badge.svg\" alt=\"Open In Colab\"/></a>"
      ]
    },
    {
      "cell_type": "code",
      "metadata": {
        "id": "46rk7fpWUokm",
        "colab_type": "code",
        "outputId": "c1dada26-3b96-478b-d435-a3a18b54e1e8",
        "colab": {
          "base_uri": "https://localhost:8080/",
          "height": 207
        }
      },
      "source": [
        "!pip install keras scikit-learn   "
      ],
      "execution_count": 0,
      "outputs": [
        {
          "output_type": "stream",
          "text": [
            "Requirement already satisfied: keras in /usr/local/lib/python3.6/dist-packages (2.3.1)\n",
            "Requirement already satisfied: scikit-learn in /usr/local/lib/python3.6/dist-packages (0.22.2.post1)\n",
            "Requirement already satisfied: keras-applications>=1.0.6 in /usr/local/lib/python3.6/dist-packages (from keras) (1.0.8)\n",
            "Requirement already satisfied: scipy>=0.14 in /usr/local/lib/python3.6/dist-packages (from keras) (1.4.1)\n",
            "Requirement already satisfied: six>=1.9.0 in /usr/local/lib/python3.6/dist-packages (from keras) (1.12.0)\n",
            "Requirement already satisfied: numpy>=1.9.1 in /usr/local/lib/python3.6/dist-packages (from keras) (1.18.3)\n",
            "Requirement already satisfied: pyyaml in /usr/local/lib/python3.6/dist-packages (from keras) (3.13)\n",
            "Requirement already satisfied: keras-preprocessing>=1.0.5 in /usr/local/lib/python3.6/dist-packages (from keras) (1.1.0)\n",
            "Requirement already satisfied: h5py in /usr/local/lib/python3.6/dist-packages (from keras) (2.10.0)\n",
            "Requirement already satisfied: joblib>=0.11 in /usr/local/lib/python3.6/dist-packages (from scikit-learn) (0.14.1)\n"
          ],
          "name": "stdout"
        }
      ]
    },
    {
      "cell_type": "code",
      "metadata": {
        "id": "yQKkTIdeoyqG",
        "colab_type": "code",
        "colab": {}
      },
      "source": [
        "# %cd ..\n",
        "# %rm -rf my-DEC/\n",
        "\n",
        "# # 因为我fork在了我的private repo里面，所以还要输个我的密码\n",
        "# import os\n",
        "# from getpass import getpass\n",
        "# user = getpass('GitHub user')\n",
        "# password = getpass('GitHub password')\n",
        "# os.environ['GITHUB_AUTH'] = user + ':' + password\n",
        "# !git clone https://$GITHUB_AUTH@github.com/Kristin33/my-DEC.git\n",
        "# # %load https://$GITHUB_AUTH@github.com/Kristin33/my-DEC/blob/master/datasets.py"
      ],
      "execution_count": 0,
      "outputs": []
    },
    {
      "cell_type": "markdown",
      "metadata": {
        "id": "FSTAZOA8DNvG",
        "colab_type": "text"
      },
      "source": [
        "# Load data"
      ]
    },
    {
      "cell_type": "code",
      "metadata": {
        "id": "VmPdpfFfDQhJ",
        "colab_type": "code",
        "colab": {}
      },
      "source": [
        "# load the compositions dataset\n",
        "# the piano rolls are pre saved in the directory\n",
        "# 1280000太大了，出resource exhausted error\n",
        "def load_comps_pianoroll(files):\n",
        "\n",
        "    print(files)\n",
        "\n",
        "    import os\n",
        "    from PIL import Image\n",
        "    data_dir = \"drive/My Drive/10701/pianoroll/\"\n",
        "\n",
        "    composer_label = np.empty((0,))\n",
        "\n",
        "    x, y = np.empty((0, 128, 1000)), np.empty((0,))\n",
        "    for idx, comp in enumerate(files):\n",
        "        composer_data = np.empty((0, 128, 1000))\n",
        "        path = data_dir + comp\n",
        "        for filename in os.listdir(path):\n",
        "            img = np.asarray(Image.open(\"{}/{}\".format(path, filename)).convert(\"L\"))\n",
        "            try:\n",
        "                composer_data = np.append(composer_data, np.expand_dims(img, axis=0), axis=0)\n",
        "\n",
        "            except:\n",
        "              pass\n",
        "        x = np.append(x, composer_data, axis=0)\n",
        "        y = np.append(y, np.ones((composer_data.shape[0],)) * idx, axis=0)\n",
        "\n",
        "    # standarize?\n",
        "    x = stats.zscore(x)\n",
        "    x = np.nan_to_num(x)\n",
        "\n",
        "    # x = np.vstack((data1, data2))\n",
        "    # y = np.hstack((np.zeros(data1.shape[0]), np.ones(data2.shape[0])))\n",
        "\n",
        "    x = x.reshape((x.shape[0], -1))\n",
        "    assert x.shape[0] == y.shape[0]\n",
        "\n",
        "    return x, y\n",
        "\n",
        "\n",
        "# load the compositions dataset\n",
        "# the csvs are pre saved in the directory\n",
        "# csv dimension 776\n",
        "def load_comps_csv(expr):\n",
        "    csv_comps = [\"dandrieu_all.csv\", \"dvorak_all.csv\", \"debussy_all.csv\", \"handel_all.csv\"]\n",
        "\n",
        "    alkan_csv = \"alkan_all.csv\"\n",
        "    bach_csv = \"bach_all.csv\"\n",
        "    beethoven_csv = \"beethoven_all.csv\"\n",
        "    brahms_csv = \"brahms_all.csv\"\n",
        "    buxtehude_csv = \"buxtehude_all.csv\"\n",
        "    byrd_csv = \"byrd_all.csv\"\n",
        "    chopin_csv = \"chopin_all.csv\"\n",
        "    dandrieu_csv = \"dandrieu_all.csv\"\n",
        "    dvorak_csv = \"dvorak_all.csv\"\n",
        "    debussy_csv = \"debussy_all.csv\"\n",
        "    faure_csv = \"faure_all.csv\"\n",
        "    handel_csv = \"handel_all.csv\"\n",
        "    haydn_csv = \"haydn_all.csv\"\n",
        "    mozart_csv = \"mozart_all.csv\"\n",
        "    scarlatti_csv = \"scarlatti_all.csv\"\n",
        "    schubert_csv = \"schubert_all.csv\"\n",
        "    schumann_csv = \"schumann_all.csv\"\n",
        "    scriabin_csv = \"scriabin_all.csv\"\n",
        "    shostakovich_csv = \"shostakovich_all.csv\"\n",
        "    soler_csv = \"soler_all.csv\"\n",
        "\n",
        "    f1_e1 = [dandrieu_csv, soler_csv]\n",
        "    f1_e2 = [dvorak_csv, schumann_csv]\n",
        "    f1_e3 = [buxtehude_csv, faure_csv]\n",
        "    f1_e4 = [scriabin_csv, byrd_csv]\n",
        "    f1_e5 = [shostakovich_csv, brahms_csv]\n",
        "    f1_e6 = [chopin_csv, debussy_csv]\n",
        "    f1_e7 = [schubert_csv, alkan_csv]\n",
        "    f1_e8 = [handel_csv, mozart_csv]\n",
        "    f1_e9 = [haydn_csv, beethoven_csv]\n",
        "    f1_e10 = [scarlatti_csv, bach_csv]\n",
        "\n",
        "    expr_mappings = {\n",
        "        \"f1_e1\": f1_e1,\n",
        "        \"f1_e2\": f1_e2,\n",
        "        \"f1_e3\": f1_e3,\n",
        "        \"f1_e4\": f1_e4,\n",
        "        \"f1_e5\": f1_e5,\n",
        "        \"f1_e6\": f1_e6,\n",
        "        \"f1_e7\": f1_e7,\n",
        "        \"f1_e8\": f1_e8,\n",
        "        \"f1_e9\": f1_e9,\n",
        "        \"f1_e10\": f1_e10,\n",
        "    }\n",
        "\n",
        "\n",
        "    data_dir = \"../drive/My Drive/10701/composer_csv/\"\n",
        "\n",
        "    composer_data = np.empty((0, 776))\n",
        "    composer_label = np.empty((0,))\n",
        "\n",
        "    for idx, filename in enumerate(expr_mappings[expr]):\n",
        "        data = np.genfromtxt(data_dir + filename, delimiter=',', \n",
        "                             usecols=np.arange(1,777), encoding=\"latin1\")\n",
        "        # get rid of the top row with feature names\n",
        "        data = data[1:,:]\n",
        "        # standarize the data\n",
        "        data = stats.zscore(data)\n",
        "        data = np.nan_to_num(data)\n",
        "\n",
        "        composer_data = np.append(composer_data, data, axis=0)\n",
        "        composer_label = np.append(composer_label, np.ones((data.shape[0],)) * idx, axis=0)\n",
        "\n",
        "    x = composer_data\n",
        "    y = composer_label\n",
        "\n",
        "    assert x.shape[0] == y.shape[0]\n",
        "\n",
        "    # 所有的data只需要一个x和y, x是data，y是label\n",
        "    # x就是一个numpy matrix (n, dim), y就是(n, )\n",
        "    return x, y\n"
      ],
      "execution_count": 0,
      "outputs": []
    },
    {
      "cell_type": "code",
      "metadata": {
        "id": "YgIFmssFHExv",
        "colab_type": "code",
        "colab": {}
      },
      "source": [
        "import numpy as np\n",
        "from sklearn.metrics import normalized_mutual_info_score, adjusted_rand_score\n",
        "from sklearn.metrics import v_measure_score, adjusted_rand_score\n",
        "\n",
        "vms = v_measure_score\n",
        "nmi = normalized_mutual_info_score\n",
        "ari = adjusted_rand_score\n",
        "\n",
        "\n",
        "def acc(y_true, y_pred):\n",
        "    \"\"\"\n",
        "    Calculate clustering accuracy. Require scikit-learn installed\n",
        "\n",
        "    # Arguments\n",
        "        y: true labels, numpy.array with shape `(n_samples,)`\n",
        "        y_pred: predicted labels, numpy.array with shape `(n_samples,)`\n",
        "\n",
        "    # Return\n",
        "        accuracy, in [0,1]\n",
        "    \"\"\"\n",
        "    y_true = y_true.astype(np.int64)\n",
        "    assert y_pred.size == y_true.size\n",
        "    D = max(y_pred.max(), y_true.max()) + 1\n",
        "    w = np.zeros((D, D), dtype=np.int64)\n",
        "    for i in range(y_pred.size):\n",
        "        w[y_pred[i], y_true[i]] += 1\n",
        "    from sklearn.utils.linear_assignment_ import linear_assignment\n",
        "    ind = linear_assignment(w.max() - w)\n",
        "    return sum([w[i, j] for i, j in ind]) * 1.0 / y_pred.size"
      ],
      "execution_count": 0,
      "outputs": []
    },
    {
      "cell_type": "markdown",
      "metadata": {
        "id": "gs889YdfC0Qr",
        "colab_type": "text"
      },
      "source": [
        "# DEC code"
      ]
    },
    {
      "cell_type": "code",
      "metadata": {
        "id": "0XmOxLVzCzT1",
        "colab_type": "code",
        "colab": {}
      },
      "source": [
        "\"\"\"\n",
        "Keras implementation for Deep Embedded Clustering (DEC) algorithm:\n",
        "\n",
        "        Junyuan Xie, Ross Girshick, and Ali Farhadi. Unsupervised deep embedding for clustering analysis. ICML 2016.\n",
        "\n",
        "Usage:\n",
        "    use `python DEC.py -h` for help.\n",
        "\n",
        "Author:\n",
        "    Xifeng Guo. 2017.1.30\n",
        "\"\"\"\n",
        "\n",
        "from time import time\n",
        "import numpy as np\n",
        "import keras.backend as K\n",
        "from keras.engine.topology import Layer, InputSpec\n",
        "from keras.layers import Dense, Input\n",
        "from keras.models import Model\n",
        "from keras.optimizers import SGD\n",
        "from keras import callbacks\n",
        "from keras.initializers import VarianceScaling\n",
        "from sklearn.cluster import KMeans\n",
        "import sklearn\n",
        "from scipy import stats\n",
        "import os\n",
        "\n",
        "\n",
        "def autoencoder(dims, act='relu', init='glorot_uniform'):\n",
        "    \"\"\"\n",
        "    Fully connected auto-encoder model, symmetric.\n",
        "    Arguments:\n",
        "        dims: list of number of units in each layer of encoder. dims[0] is input dim, dims[-1] is units in hidden layer.\n",
        "            The decoder is symmetric with encoder. So number of layers of the auto-encoder is 2*len(dims)-1\n",
        "        act: activation, not applied to Input, Hidden and Output layers\n",
        "    return:\n",
        "        (ae_model, encoder_model), Model of autoencoder and model of encoder\n",
        "    \"\"\"\n",
        "    n_stacks = len(dims) - 1\n",
        "    # input\n",
        "    x = Input(shape=(dims[0],), name='input')\n",
        "    h = x\n",
        "\n",
        "    # internal layers in encoder\n",
        "    for i in range(n_stacks-1):\n",
        "        h = Dense(dims[i + 1], activation=act, kernel_initializer=init, name='encoder_%d' % i)(h)\n",
        "\n",
        "    # hidden layer\n",
        "    h = Dense(dims[-1], kernel_initializer=init, name='encoder_%d' % (n_stacks - 1))(h)  # hidden layer, features are extracted from here\n",
        "\n",
        "    y = h\n",
        "    # internal layers in decoder\n",
        "    for i in range(n_stacks-1, 0, -1):\n",
        "        y = Dense(dims[i], activation=act, kernel_initializer=init, name='decoder_%d' % i)(y)\n",
        "\n",
        "    # output\n",
        "    y = Dense(dims[0], kernel_initializer=init, name='decoder_0')(y)\n",
        "\n",
        "    return Model(inputs=x, outputs=y, name='AE'), Model(inputs=x, outputs=h, name='encoder')\n",
        "\n",
        "\n",
        "class ClusteringLayer(Layer):\n",
        "    \"\"\"\n",
        "    Clustering layer converts input sample (feature) to soft label, i.e. a vector that represents the probability of the\n",
        "    sample belonging to each cluster. The probability is calculated with student's t-distribution.\n",
        "\n",
        "    # Example\n",
        "    ```\n",
        "        model.add(ClusteringLayer(n_clusters=10))\n",
        "    ```\n",
        "    # Arguments\n",
        "        n_clusters: number of clusters.\n",
        "        weights: list of Numpy array with shape `(n_clusters, n_features)` witch represents the initial cluster centers.\n",
        "        alpha: parameter in Student's t-distribution. Default to 1.0.\n",
        "    # Input shape\n",
        "        2D tensor with shape: `(n_samples, n_features)`.\n",
        "    # Output shape\n",
        "        2D tensor with shape: `(n_samples, n_clusters)`.\n",
        "    \"\"\"\n",
        "\n",
        "    def __init__(self, n_clusters, weights=None, alpha=1.0, **kwargs):\n",
        "        if 'input_shape' not in kwargs and 'input_dim' in kwargs:\n",
        "            kwargs['input_shape'] = (kwargs.pop('input_dim'),)\n",
        "        super(ClusteringLayer, self).__init__(**kwargs)\n",
        "        self.n_clusters = n_clusters\n",
        "        self.alpha = alpha\n",
        "        self.initial_weights = weights\n",
        "        self.input_spec = InputSpec(ndim=2)\n",
        "\n",
        "    def build(self, input_shape):\n",
        "        assert len(input_shape) == 2\n",
        "        input_dim = input_shape[1]\n",
        "        self.input_spec = InputSpec(dtype=K.floatx(), shape=(None, input_dim))\n",
        "        self.clusters = self.add_weight(shape=(self.n_clusters, input_dim), initializer='glorot_uniform', name='clusters')\n",
        "        if self.initial_weights is not None:\n",
        "            self.set_weights(self.initial_weights)\n",
        "            del self.initial_weights\n",
        "        self.built = True\n",
        "\n",
        "    def call(self, inputs, **kwargs):\n",
        "        \"\"\" student t-distribution, as same as used in t-SNE algorithm.\n",
        "                 q_ij = 1/(1+dist(x_i, u_j)^2), then normalize it.\n",
        "        Arguments:\n",
        "            inputs: the variable containing data, shape=(n_samples, n_features)\n",
        "        Return:\n",
        "            q: student's t-distribution, or soft labels for each sample. shape=(n_samples, n_clusters)\n",
        "        \"\"\"\n",
        "        q = 1.0 / (1.0 + (K.sum(K.square(K.expand_dims(inputs, axis=1) - self.clusters), axis=2) / self.alpha))\n",
        "        q **= (self.alpha + 1.0) / 2.0\n",
        "        q = K.transpose(K.transpose(q) / K.sum(q, axis=1))\n",
        "        return q\n",
        "\n",
        "    def compute_output_shape(self, input_shape):\n",
        "        assert input_shape and len(input_shape) == 2\n",
        "        return input_shape[0], self.n_clusters\n",
        "\n",
        "    def get_config(self):\n",
        "        config = {'n_clusters': self.n_clusters}\n",
        "        base_config = super(ClusteringLayer, self).get_config()\n",
        "        return dict(list(base_config.items()) + list(config.items()))\n",
        "\n",
        "\n",
        "class DEC(object):\n",
        "    def __init__(self,\n",
        "                 dims,\n",
        "                 n_clusters=10,\n",
        "                 alpha=1.0,\n",
        "                 init='glorot_uniform'):\n",
        "\n",
        "        super(DEC, self).__init__()\n",
        "\n",
        "        self.dims = dims\n",
        "        self.input_dim = dims[0]\n",
        "        self.n_stacks = len(self.dims) - 1\n",
        "\n",
        "        self.n_clusters = n_clusters\n",
        "        self.alpha = alpha\n",
        "        self.autoencoder, self.encoder = autoencoder(self.dims, init=init)\n",
        "\n",
        "        # prepare DEC model\n",
        "        clustering_layer = ClusteringLayer(self.n_clusters, name='clustering')(self.encoder.output)\n",
        "        self.model = Model(inputs=self.encoder.input, outputs=clustering_layer)\n",
        "\n",
        "    def pretrain(self, x, y=None, optimizer='adam', epochs=200, batch_size=256, save_dir='results/temp'):\n",
        "        print('...Pretraining...')\n",
        "        self.autoencoder.compile(optimizer=optimizer, loss='mse')\n",
        "\n",
        "        # csv_logger = callbacks.CSVLogger(save_dir + '/pretrain_log.csv')\n",
        "        # cb = [csv_logger]\n",
        "        if y is not None:\n",
        "            class PrintACC(callbacks.Callback):\n",
        "                def __init__(self, x, y):\n",
        "                    self.x = x\n",
        "                    self.y = y\n",
        "                    super(PrintACC, self).__init__()\n",
        "\n",
        "                def on_epoch_end(self, epoch, logs=None):\n",
        "                    if int(epochs/10) != 0 and epoch % int(epochs/10) != 0:\n",
        "                        return\n",
        "                    feature_model = Model(self.model.input,\n",
        "                                          self.model.get_layer(\n",
        "                                              'encoder_%d' % (int(len(self.model.layers) / 2) - 1)).output)\n",
        "                    features = feature_model.predict(self.x)\n",
        "                    km = KMeans(n_clusters=len(np.unique(self.y)), n_init=20, n_jobs=4)\n",
        "                    y_pred = km.fit_predict(features)\n",
        "                    # print()\n",
        "                    print(' '*8 + '|==>  acc: %.4f,  nmi: %.4f  <==|'\n",
        "                          % (acc(self.y, y_pred), nmi(self.y, y_pred)))\n",
        "\n",
        "            PrintACC(x, y)\n",
        "\n",
        "        # begin pretraining\n",
        "        t0 = time()\n",
        "        self.autoencoder.fit(x, x, batch_size=batch_size, epochs=epochs)\n",
        "        print('Pretraining time: %ds' % round(time() - t0))\n",
        "        # self.autoencoder.save_weights(save_dir + '/ae_weights.h5')\n",
        "        print('Pretrained weights are saved to %s/ae_weights.h5' % save_dir)\n",
        "        self.pretrained = True\n",
        "\n",
        "    def load_weights(self, weights):  # load weights of DEC model\n",
        "        self.model.load_weights(weights)\n",
        "\n",
        "    def extract_features(self, x):\n",
        "        return self.encoder.predict(x)\n",
        "\n",
        "    def predict(self, x):  # predict cluster labels using the output of clustering layer\n",
        "        q = self.model.predict(x, verbose=0)\n",
        "        return q.argmax(1)\n",
        "\n",
        "    @staticmethod\n",
        "    def target_distribution(q):\n",
        "        weight = q ** 2 / q.sum(0)\n",
        "        return (weight.T / weight.sum(1)).T\n",
        "\n",
        "    def compile(self, optimizer='sgd', loss='kld'):\n",
        "        self.model.compile(optimizer=optimizer, loss=loss)\n",
        "\n",
        "    def fit(self, x, y=None, maxiter=2e4, batch_size=256, tol=1e-3,\n",
        "            update_interval=140, save_dir='./results/temp'):\n",
        "\n",
        "        print('Update interval', update_interval)\n",
        "        save_interval = max(int(x.shape[0] / batch_size) * 5, 5)  # 5 epochs\n",
        "        print('Save interval', save_interval)\n",
        "\n",
        "        # Step 1: initialize cluster centers using k-means\n",
        "        t1 = time()\n",
        "        print('Initializing cluster centers with k-means.')\n",
        "        kmeans = KMeans(n_clusters=self.n_clusters, n_init=20)\n",
        "        y_pred = kmeans.fit_predict(self.encoder.predict(x))\n",
        "        y_pred_last = np.copy(y_pred)\n",
        "        self.model.get_layer(name='clustering').set_weights([kmeans.cluster_centers_])\n",
        "\n",
        "        # Step 2: deep clustering\n",
        "        # logging file\n",
        "        import csv\n",
        "        # logfile = open(save_dir + '/dec_log.csv', 'w')\n",
        "        # logwriter = csv.DictWriter(logfile, fieldnames=['iter', 'acc', 'nmi', 'ari', 'loss'])\n",
        "        # logwriter.writeheader()\n",
        "\n",
        "        loss = 0\n",
        "        index = 0\n",
        "        index_array = np.arange(x.shape[0])\n",
        "        for ite in range(int(maxiter)):\n",
        "            if ite % update_interval == 0:\n",
        "                q = self.model.predict(x, verbose=0)\n",
        "                # print(q.shape)\n",
        "                p = self.target_distribution(q)  # update the auxiliary target distribution p\n",
        "\n",
        "                # evaluate the clustering performance\n",
        "                y_pred = q.argmax(1)\n",
        "                if y is not None:\n",
        "                    acc_ = np.round(acc(y, y_pred), 5)\n",
        "                    nmi_ = np.round(nmi(y, y_pred), 5)\n",
        "                    ari_ = np.round(ari(y, y_pred), 5)\n",
        "                    vm = np.round(sklearn.metrics.v_measure_score(y, y_pred), 5)\n",
        "                    loss = np.round(loss, 5)\n",
        "                    print('Iter %d: acc = %.5f, nmi = %.5f, ari = %.5f, vm = %.5f' % (ite, acc_, nmi_, ari_, vm), ' ; loss=', loss)\n",
        "\n",
        "                # check stop criterion\n",
        "                delta_label = np.sum(y_pred != y_pred_last).astype(np.float32) / y_pred.shape[0]\n",
        "                y_pred_last = np.copy(y_pred)\n",
        "                if ite > 0 and delta_label < tol:\n",
        "                    print('delta_label ', delta_label, '< tol ', tol)\n",
        "                    print('Reached tolerance threshold. Stopping training.')\n",
        "                    # logfile.close()\n",
        "                    break\n",
        "\n",
        "            # train on batch\n",
        "            # if index == 0:\n",
        "            #     np.random.shuffle(index_array)\n",
        "            idx = index_array[index * batch_size: min((index+1) * batch_size, x.shape[0])]\n",
        "            loss = self.model.train_on_batch(x=x[idx], y=p[idx])\n",
        "            index = index + 1 if (index + 1) * batch_size <= x.shape[0] else 0\n",
        "\n",
        "            # save intermediate model\n",
        "            if ite % save_interval == 0:\n",
        "                print('saving model to:', save_dir + '/DEC_model_' + str(ite) + '.h5')\n",
        "                # self.model.save_weights(save_dir + '/DEC_model_' + str(ite) + '.h5')\n",
        "\n",
        "            ite += 1\n",
        "\n",
        "        # save the trained model\n",
        "        # logfile.close()\n",
        "        print('saving model to:', save_dir + '/DEC_model_final.h5')\n",
        "        # self.model.save_weights(save_dir + '/DEC_model_final.h5')\n",
        "\n",
        "        return y_pred\n",
        "\n",
        "\n",
        "def DEC_main(dataset, files, save=False):\n",
        "    # # setting the hyper parameters\n",
        "    # import argparse\n",
        "\n",
        "    # parser = argparse.ArgumentParser(description='train',\n",
        "    #                                  formatter_class=argparse.ArgumentDefaultsHelpFormatter)\n",
        "    # parser.add_argument('--dataset', default='mnist',\n",
        "    #                     choices=['mnist', 'fmnist', 'usps', 'reuters10k', 'stl', 'comps', 'comps_csv'])\n",
        "    # parser.add_argument('--experiment', default='f1_e1',\n",
        "    #                     choices=['f1_e1', 'f1_e2', 'f1_e3', 'f1_e4', 'f1_e5', 'f1_e6', \n",
        "    #                     'f1_e7', 'f1_e8', 'f1_e9', 'f1_e10'])\n",
        "    # parser.add_argument('--batch_size', default=256, type=int)\n",
        "    # parser.add_argument('--maxiter', default=2e4, type=int)\n",
        "    # parser.add_argument('--pretrain_epochs', default=None, type=int)\n",
        "    # parser.add_argument('--update_interval', default=None, type=int)\n",
        "    # parser.add_argument('--tol', default=0.001, type=float)\n",
        "    # parser.add_argument('--ae_weights', default=None)\n",
        "    # parser.add_argument('--save_dir', default='results')\n",
        "    # args = parser.parse_args()\n",
        "    # print(args)\n",
        "\n",
        "    # load dataset\n",
        "    print(\"loading dataset...\")\n",
        "    x, y = load_comps_pianoroll(files)\n",
        "    n_clusters = len(np.unique(y))\n",
        "\n",
        "    print(x.shape)\n",
        "    print(y.shape)\n",
        "\n",
        "    init = 'glorot_uniform'\n",
        "    pretrain_optimizer = 'adam'\n",
        "    # setting parameters\n",
        "    if dataset == 'comps_csv':\n",
        "        update_interval = 140\n",
        "        pretrain_epochs = 300\n",
        "        init = VarianceScaling(scale=1. / 3., mode='fan_in',\n",
        "                               distribution='uniform')  # [-limit, limit], limit=sqrt(1./fan_in)\n",
        "        pretrain_optimizer = SGD(lr=1, momentum=0.9)\n",
        "    elif dataset == 'comps':\n",
        "        update_interval = 30\n",
        "        pretrain_epochs = 100\n",
        "\n",
        "    # prepare the DEC model\n",
        "    dec = DEC(dims=[x.shape[-1], 500, 500, 2000, 10], n_clusters=n_clusters, init=init)\n",
        "\n",
        "    dec.pretrain(x=x, y=y, optimizer=pretrain_optimizer,\n",
        "                  epochs=pretrain_epochs)\n",
        "\n",
        "    dec.model.summary()\n",
        "    t0 = time()\n",
        "    dec.compile(optimizer=SGD(0.01, 0.9), loss='kld')\n",
        "    y_pred = dec.fit(x, y=y, update_interval=update_interval)\n",
        "    print('acc:', acc(y, y_pred))\n",
        "    print('clustering time: ', (time() - t0))\n",
        "\n",
        "    if save:\n",
        "      name = \"_\".join([f[:5] for f in files]) \n",
        "      drive_dir = \"drive/My Drive/10701/\"\n",
        "      with open(drive_dir + \"results/dec_pr/f3/{}.txt\".format(name), \"w\") as f:\n",
        "        f.write(\", \".join([f[:-4] for f in files]) + \"\\n\")\n",
        "        f.write(\"acc: {}\\n\".format(acc(y, y_pred)))\n",
        "        f.write(\"vms: {}\\n\".format(vms(y, y_pred)))\n",
        "        f.write(\"nmi: {}\\n\".format(nmi(y, y_pred)))\n",
        "        f.write(\"ari: {}\\n\".format(ari(y, y_pred)))\n",
        "   \n",
        "\n",
        "    return acc(y, y_pred)\n"
      ],
      "execution_count": 0,
      "outputs": []
    },
    {
      "cell_type": "code",
      "metadata": {
        "id": "8DvzzcWUoFzb",
        "colab_type": "code",
        "colab": {}
      },
      "source": [
        "# %cd my-DEC\n",
        "# %load datasets.py\n",
        "# from datasets import load_comps_csv"
      ],
      "execution_count": 0,
      "outputs": []
    },
    {
      "cell_type": "code",
      "metadata": {
        "id": "XCUgGi5xrM_6",
        "colab_type": "code",
        "colab": {}
      },
      "source": [
        "# x, y = load_comps_csv()"
      ],
      "execution_count": 0,
      "outputs": []
    },
    {
      "cell_type": "code",
      "metadata": {
        "id": "lmJoFQomUv0V",
        "colab_type": "code",
        "colab": {}
      },
      "source": [
        "# %cd my-DEC/\n",
        "# !python DEC.py --dataset comps --experiment f1_e5"
      ],
      "execution_count": 0,
      "outputs": []
    },
    {
      "cell_type": "code",
      "metadata": {
        "id": "36AZf3Pkl9Xb",
        "colab_type": "code",
        "outputId": "ac358028-7d7e-44a6-e11e-8a3a94e64336",
        "colab": {
          "base_uri": "https://localhost:8080/",
          "height": 51
        }
      },
      "source": [
        "%cd content/"
      ],
      "execution_count": 0,
      "outputs": [
        {
          "output_type": "stream",
          "text": [
            "[Errno 2] No such file or directory: 'content/'\n",
            "/content\n"
          ],
          "name": "stdout"
        }
      ]
    },
    {
      "cell_type": "markdown",
      "metadata": {
        "id": "XlXSV24BFRny",
        "colab_type": "text"
      },
      "source": [
        "# run all"
      ]
    },
    {
      "cell_type": "code",
      "metadata": {
        "id": "SG8kuprLU6l8",
        "colab_type": "code",
        "outputId": "83adbc00-53e0-4923-a400-36391a031434",
        "colab": {
          "base_uri": "https://localhost:8080/",
          "height": 1000
        }
      },
      "source": [
        "# 直接的midi数据\n",
        "alkan_dir = \"alkan_(c)contributors-kunstderfuge/\"\n",
        "bach_dir = \"bach_all/\"\n",
        "dandrieu_dir = \"dandrieu_(c)contributors-kunstderfuge/\"\n",
        "dvorak_dir = \"dvorak_(c)contributors-kunstderfuge/\"\n",
        "scriabin_dir = \"scriabin_(c)contributors-kunstderfuge/\"\n",
        "byrd_dir = \"byrd_(c)contributors-kunstderfuge/\"\n",
        "faure_dir = \"faure_(c)contributors-kunstderfuge/\"\n",
        "buxtehude_dir = \"buxtehude_(c)contributors-kunstderfuge/\"\n",
        "beethoven_dir = \"beethoven_all/\"\n",
        "brahms_dir = \"brahms_all/\"\n",
        "schubert_dir = \"schubert_all/\"\n",
        "chopin_dir = \"chopin_all/\"\n",
        "debussy_dir = \"debussy_all/\"\n",
        "handel_dir = \"handel_all/\"\n",
        "haydn_dir = \"haydn_all/\"\n",
        "scarlatti_dir = \"scarlatti_all/\"\n",
        "mozart_dir = \"mozart_all/\"\n",
        "schumann_dir = \"schumann_(c)contributors-kunstderfuge/\"\n",
        "scriabin_dir = \"scriabin_(c)contributors-kunstderfuge/\"\n",
        "shostakovich_dir = \"shostakovich_(c)contributors-kunstderfuge/\"\n",
        "soler_dir = \"soler_(c)contributors-kunstderfuge/\"\n",
        "\n",
        "pr_comps = [alkan_dir, bach_dir, beethoven_dir,\n",
        "               brahms_dir, buxtehude_dir, byrd_dir, \n",
        "               chopin_dir, dandrieu_dir, dvorak_dir, debussy_dir,\n",
        "               faure_dir, handel_dir, haydn_dir,\n",
        "               mozart_dir, scarlatti_dir, schubert_dir,\n",
        "              schumann_dir, scriabin_dir, shostakovich_dir, soler_dir]\n",
        "\n",
        "# all_pairs = [[a, b] for a in csv_comps for b in csv_comps if (a != b and a > b)]\n",
        "# for p in list(all_pairs):\n",
        "# \tprint(p)\n",
        "# \trun_clustering(\"kmeans\", p)\n",
        "# \tprint(\"done!\")\n",
        "# data = []\n",
        "# for a in pr_comps:\n",
        "#   tmp = []\n",
        "#   for b in pr_comps:\n",
        "#     name = \"_\".join([f[:5] for f in [a, b]]) \n",
        "#     if not os.path.exists(\"drive/My Drive/10701/results/dec_pr/f1/{}.txt\".format(name)):\n",
        "#       tmp.append(DEC_main(\"comps\", [a, b], save=True))\n",
        "#   data.append(tmp)\n",
        "# data = np.array(data)\n",
        "\n",
        "f2_e1 = [scarlatti_dir, mozart_dir, faure_dir, shostakovich_dir]\n",
        "f2_e2 = [byrd_dir, handel_dir, chopin_dir, scriabin_dir]\n",
        "f2_e3 = [bach_dir, beethoven_dir, schubert_dir, debussy_dir]\n",
        "f2_e4 = [buxtehude_dir, haydn_dir, brahms_dir, alkan_dir]\n",
        "\n",
        "f3_e1 = [scarlatti_dir, bach_dir, byrd_dir, buxtehude_dir]\n",
        "f3_e2 = [beethoven_dir, handel_dir, mozart_dir, haydn_dir]\n",
        "f3_e3 = [brahms_dir, chopin_dir, schubert_dir, faure_dir]\n",
        "f3_e4 = [scriabin_dir, shostakovich_dir, debussy_dir, alkan_dir]\n",
        "\n",
        "DEC_main(\"comps\", f3_e1, save=True)\n",
        "DEC_main(\"comps\", f3_e2, save=True)\n",
        "DEC_main(\"comps\", f3_e3, save=True)\n",
        "DEC_main(\"comps\", f3_e4, save=True)\n",
        "\n",
        "import sys\n",
        "sys.exit()\n",
        "\n",
        "# print(run_clustering_features(\"kmeans\", [dandrieu_csv, soler_csv], save=True))\n",
        "np.savetxt(\"drive/My Drive/10701/results/dec_pr_accuracy.txt\", data)\n",
        "data = np.around(np.loadtxt(\"drive/My Drive/10701/results/dec_pr_accuracy.txt.txt\"), decimals=2)\n",
        "\n",
        "print(data)\n",
        "# sys.exit()\n",
        "\n",
        "fig, ax = plt.subplots()\n",
        "im = ax.imshow(data, cmap=\"Wistia\")\n",
        "\n",
        "comps_names = [c[:-8] for c in csv_comps]\n",
        "\n",
        "# We want to show all ticks...\n",
        "ax.set_xticks(np.arange(len(comps_names)))\n",
        "ax.set_yticks(np.arange(len(comps_names)))\n",
        "# ... and label them with the respective list entries\n",
        "ax.set_xticklabels(comps_names)\n",
        "ax.set_yticklabels(comps_names)\n",
        "\n",
        "# Rotate the tick labels and set their alignment.\n",
        "plt.setp(ax.get_xticklabels(), rotation=45, ha=\"right\",\n",
        "          rotation_mode=\"anchor\")\n",
        "\n",
        "# Loop over data dimensions and create text annotations.\n",
        "for i in range(len(comps_names)):\n",
        "    for j in range(len(comps_names)):\n",
        "        text = ax.text(j, i, data[i, j],\n",
        "                        ha=\"center\", va=\"center\", color=\"black\", size=\"6\")\n",
        "\n",
        "ax.set_title(\"heatmap of pairwise composer clustering acc - raw piano roll\")\n",
        "fig.tight_layout()\n",
        "plt.show()\n",
        "\n",
        "# "
      ],
      "execution_count": 0,
      "outputs": [
        {
          "output_type": "stream",
          "text": [
            "loading dataset...\n",
            "['scarlatti_all/', 'bach_all/', 'byrd_(c)contributors-kunstderfuge/', 'buxtehude_(c)contributors-kunstderfuge/']\n"
          ],
          "name": "stdout"
        },
        {
          "output_type": "stream",
          "text": [
            "/usr/local/lib/python3.6/dist-packages/scipy/stats/stats.py:2419: RuntimeWarning: invalid value encountered in true_divide\n",
            "  return (a - mns) / sstd\n"
          ],
          "name": "stderr"
        },
        {
          "output_type": "stream",
          "text": [
            "(1741, 128000)\n",
            "(1741,)\n",
            "...Pretraining...\n",
            "Epoch 1/100\n",
            "1741/1741 [==============================] - 3s 2ms/step - loss: 0.5870\n",
            "Epoch 2/100\n",
            "1741/1741 [==============================] - 3s 2ms/step - loss: 0.5869\n",
            "Epoch 3/100\n",
            "1741/1741 [==============================] - 3s 2ms/step - loss: 0.5887\n",
            "Epoch 4/100\n",
            "1741/1741 [==============================] - 3s 1ms/step - loss: 0.5853\n",
            "Epoch 5/100\n",
            "1741/1741 [==============================] - 3s 2ms/step - loss: 0.5821\n",
            "Epoch 6/100\n",
            "1741/1741 [==============================] - 3s 2ms/step - loss: 0.5812\n",
            "Epoch 7/100\n",
            "1741/1741 [==============================] - 3s 2ms/step - loss: 0.5859\n",
            "Epoch 8/100\n",
            "1741/1741 [==============================] - 3s 2ms/step - loss: 0.5844\n",
            "Epoch 9/100\n",
            "1741/1741 [==============================] - 3s 2ms/step - loss: 0.5922\n",
            "Epoch 10/100\n",
            "1741/1741 [==============================] - 3s 2ms/step - loss: 0.5829\n",
            "Epoch 11/100\n",
            "1741/1741 [==============================] - 3s 2ms/step - loss: 0.5765\n",
            "Epoch 12/100\n",
            "1741/1741 [==============================] - 3s 1ms/step - loss: 0.6034\n",
            "Epoch 13/100\n",
            "1741/1741 [==============================] - 3s 2ms/step - loss: 0.5861\n",
            "Epoch 14/100\n",
            "1741/1741 [==============================] - 3s 2ms/step - loss: 0.5819\n",
            "Epoch 15/100\n",
            "1741/1741 [==============================] - 3s 2ms/step - loss: 0.5785\n",
            "Epoch 16/100\n",
            "1741/1741 [==============================] - 3s 2ms/step - loss: 0.5750\n",
            "Epoch 17/100\n",
            "1741/1741 [==============================] - 3s 2ms/step - loss: 0.5733\n",
            "Epoch 18/100\n",
            "1741/1741 [==============================] - 3s 2ms/step - loss: 0.5734\n",
            "Epoch 19/100\n",
            "1741/1741 [==============================] - 3s 2ms/step - loss: 0.5690\n",
            "Epoch 20/100\n",
            "1741/1741 [==============================] - 3s 2ms/step - loss: 0.5666\n",
            "Epoch 21/100\n",
            "1741/1741 [==============================] - 3s 2ms/step - loss: 0.5658\n",
            "Epoch 22/100\n",
            "1741/1741 [==============================] - 3s 2ms/step - loss: 0.5683\n",
            "Epoch 23/100\n",
            "1741/1741 [==============================] - 3s 2ms/step - loss: 0.5651\n",
            "Epoch 24/100\n",
            "1741/1741 [==============================] - 3s 2ms/step - loss: 0.5686\n",
            "Epoch 25/100\n",
            "1741/1741 [==============================] - 3s 2ms/step - loss: 0.5604\n",
            "Epoch 26/100\n",
            "1741/1741 [==============================] - 3s 2ms/step - loss: 0.5599\n",
            "Epoch 27/100\n",
            "1741/1741 [==============================] - 3s 2ms/step - loss: 0.5608\n",
            "Epoch 28/100\n",
            "1741/1741 [==============================] - 3s 2ms/step - loss: 0.5599\n",
            "Epoch 29/100\n",
            "1741/1741 [==============================] - 3s 2ms/step - loss: 0.5626\n",
            "Epoch 30/100\n",
            "1741/1741 [==============================] - 3s 2ms/step - loss: 0.5514\n",
            "Epoch 31/100\n",
            "1741/1741 [==============================] - 3s 2ms/step - loss: 0.5469\n",
            "Epoch 32/100\n",
            "1741/1741 [==============================] - 3s 2ms/step - loss: 0.5403\n",
            "Epoch 33/100\n",
            "1741/1741 [==============================] - 3s 2ms/step - loss: 0.5383\n",
            "Epoch 34/100\n",
            "1741/1741 [==============================] - 3s 2ms/step - loss: 0.5371\n",
            "Epoch 35/100\n",
            "1741/1741 [==============================] - 3s 2ms/step - loss: 0.5554\n",
            "Epoch 36/100\n",
            "1741/1741 [==============================] - 3s 2ms/step - loss: 0.5521\n",
            "Epoch 37/100\n",
            "1741/1741 [==============================] - 3s 2ms/step - loss: 0.5428\n",
            "Epoch 38/100\n",
            "1741/1741 [==============================] - 3s 2ms/step - loss: 0.5496\n",
            "Epoch 39/100\n",
            "1741/1741 [==============================] - 3s 2ms/step - loss: 0.5471\n",
            "Epoch 40/100\n",
            "1741/1741 [==============================] - 3s 2ms/step - loss: 0.5456\n",
            "Epoch 41/100\n",
            "1741/1741 [==============================] - 3s 2ms/step - loss: 0.5358\n",
            "Epoch 42/100\n",
            "1741/1741 [==============================] - 3s 2ms/step - loss: 0.5241\n",
            "Epoch 43/100\n",
            "1741/1741 [==============================] - 3s 2ms/step - loss: 0.5278\n",
            "Epoch 44/100\n",
            "1741/1741 [==============================] - 3s 2ms/step - loss: 0.5241\n",
            "Epoch 45/100\n",
            "1741/1741 [==============================] - 3s 2ms/step - loss: 0.5234\n",
            "Epoch 46/100\n",
            "1741/1741 [==============================] - 3s 2ms/step - loss: 0.5204\n",
            "Epoch 47/100\n",
            "1741/1741 [==============================] - 3s 2ms/step - loss: 0.5134\n",
            "Epoch 48/100\n",
            "1741/1741 [==============================] - 3s 2ms/step - loss: 0.5203\n",
            "Epoch 49/100\n",
            "1741/1741 [==============================] - 3s 2ms/step - loss: 0.5114\n",
            "Epoch 50/100\n",
            "1741/1741 [==============================] - 3s 2ms/step - loss: 0.5108\n",
            "Epoch 51/100\n",
            "1741/1741 [==============================] - 3s 2ms/step - loss: 0.5198\n",
            "Epoch 52/100\n",
            "1741/1741 [==============================] - 3s 2ms/step - loss: 0.5067\n",
            "Epoch 53/100\n",
            "1741/1741 [==============================] - 3s 1ms/step - loss: 0.5073\n",
            "Epoch 54/100\n",
            "1741/1741 [==============================] - 3s 1ms/step - loss: 0.5048\n",
            "Epoch 55/100\n",
            "1741/1741 [==============================] - 3s 2ms/step - loss: 0.4997\n",
            "Epoch 56/100\n",
            "1741/1741 [==============================] - 3s 1ms/step - loss: 0.4980\n",
            "Epoch 57/100\n",
            "1741/1741 [==============================] - 3s 1ms/step - loss: 0.5029\n",
            "Epoch 58/100\n",
            "1741/1741 [==============================] - 3s 2ms/step - loss: 0.5026\n",
            "Epoch 59/100\n",
            "1741/1741 [==============================] - 3s 2ms/step - loss: 0.5038\n",
            "Epoch 60/100\n",
            "1741/1741 [==============================] - 3s 1ms/step - loss: 0.4963\n",
            "Epoch 61/100\n",
            "1741/1741 [==============================] - 3s 2ms/step - loss: 0.4925\n",
            "Epoch 62/100\n",
            "1741/1741 [==============================] - 3s 1ms/step - loss: 0.4886\n",
            "Epoch 63/100\n",
            "1741/1741 [==============================] - 3s 2ms/step - loss: 0.4805\n",
            "Epoch 64/100\n",
            "1741/1741 [==============================] - 3s 1ms/step - loss: 0.4752\n",
            "Epoch 65/100\n",
            "1741/1741 [==============================] - 3s 2ms/step - loss: 0.4729\n",
            "Epoch 66/100\n",
            "1741/1741 [==============================] - 3s 1ms/step - loss: 0.5074\n",
            "Epoch 67/100\n",
            "1741/1741 [==============================] - 3s 1ms/step - loss: 0.4780\n",
            "Epoch 68/100\n",
            "1741/1741 [==============================] - 3s 2ms/step - loss: 0.4796\n",
            "Epoch 69/100\n",
            "1741/1741 [==============================] - 3s 2ms/step - loss: 0.4711\n",
            "Epoch 70/100\n",
            "1741/1741 [==============================] - 3s 1ms/step - loss: 0.4725\n",
            "Epoch 71/100\n",
            "1741/1741 [==============================] - 3s 2ms/step - loss: 0.4667\n",
            "Epoch 72/100\n",
            "1741/1741 [==============================] - 3s 2ms/step - loss: 0.4633\n",
            "Epoch 73/100\n",
            "1741/1741 [==============================] - 3s 2ms/step - loss: 0.4609\n",
            "Epoch 74/100\n",
            "1741/1741 [==============================] - 3s 2ms/step - loss: 0.4571\n",
            "Epoch 75/100\n",
            "1741/1741 [==============================] - 3s 2ms/step - loss: 0.4524\n",
            "Epoch 76/100\n",
            "1741/1741 [==============================] - 3s 2ms/step - loss: 0.4528\n",
            "Epoch 77/100\n",
            "1741/1741 [==============================] - 3s 2ms/step - loss: 0.4563\n",
            "Epoch 78/100\n",
            "1741/1741 [==============================] - 3s 1ms/step - loss: 0.4801\n",
            "Epoch 79/100\n",
            "1741/1741 [==============================] - 3s 2ms/step - loss: 0.4652\n",
            "Epoch 80/100\n",
            "1741/1741 [==============================] - 3s 2ms/step - loss: 0.4599\n",
            "Epoch 81/100\n",
            "1741/1741 [==============================] - 3s 2ms/step - loss: 0.4553\n",
            "Epoch 82/100\n",
            "1741/1741 [==============================] - 3s 2ms/step - loss: 0.4541\n",
            "Epoch 83/100\n",
            "1741/1741 [==============================] - 3s 2ms/step - loss: 0.4426\n",
            "Epoch 84/100\n",
            "1741/1741 [==============================] - 3s 1ms/step - loss: 0.4314\n",
            "Epoch 85/100\n",
            "1741/1741 [==============================] - 3s 1ms/step - loss: 0.4320\n",
            "Epoch 86/100\n",
            "1741/1741 [==============================] - 3s 1ms/step - loss: 0.4313\n",
            "Epoch 87/100\n",
            "1741/1741 [==============================] - 3s 2ms/step - loss: 0.4252\n",
            "Epoch 88/100\n",
            "1741/1741 [==============================] - 3s 1ms/step - loss: 0.4259\n",
            "Epoch 89/100\n",
            "1741/1741 [==============================] - 3s 2ms/step - loss: 0.4225\n",
            "Epoch 90/100\n",
            "1741/1741 [==============================] - 3s 2ms/step - loss: 0.4223\n",
            "Epoch 91/100\n",
            "1741/1741 [==============================] - 3s 2ms/step - loss: 0.4125\n",
            "Epoch 92/100\n",
            "1741/1741 [==============================] - 3s 1ms/step - loss: 0.4105\n",
            "Epoch 93/100\n",
            "1741/1741 [==============================] - 3s 2ms/step - loss: 0.4069\n",
            "Epoch 94/100\n",
            "1741/1741 [==============================] - 3s 2ms/step - loss: 0.4054\n",
            "Epoch 95/100\n",
            "1741/1741 [==============================] - 3s 2ms/step - loss: 0.4058\n",
            "Epoch 96/100\n",
            "1741/1741 [==============================] - 3s 2ms/step - loss: 0.4092\n",
            "Epoch 97/100\n",
            "1741/1741 [==============================] - 3s 2ms/step - loss: 0.4125\n",
            "Epoch 98/100\n",
            "1741/1741 [==============================] - 3s 2ms/step - loss: 0.4074\n",
            "Epoch 99/100\n",
            "1741/1741 [==============================] - 3s 2ms/step - loss: 0.4174\n",
            "Epoch 100/100\n",
            "1741/1741 [==============================] - 3s 2ms/step - loss: 0.4085\n",
            "Pretraining time: 265s\n",
            "Pretrained weights are saved to results/temp/ae_weights.h5\n",
            "Model: \"model_5\"\n",
            "_________________________________________________________________\n",
            "Layer (type)                 Output Shape              Param #   \n",
            "=================================================================\n",
            "input (InputLayer)           (None, 128000)            0         \n",
            "_________________________________________________________________\n",
            "encoder_0 (Dense)            (None, 500)               64000500  \n",
            "_________________________________________________________________\n",
            "encoder_1 (Dense)            (None, 500)               250500    \n",
            "_________________________________________________________________\n",
            "encoder_2 (Dense)            (None, 2000)              1002000   \n",
            "_________________________________________________________________\n",
            "encoder_3 (Dense)            (None, 10)                20010     \n",
            "_________________________________________________________________\n",
            "clustering (ClusteringLayer) (None, 4)                 40        \n",
            "=================================================================\n",
            "Total params: 65,273,050\n",
            "Trainable params: 65,273,050\n",
            "Non-trainable params: 0\n",
            "_________________________________________________________________\n",
            "Update interval 30\n",
            "Save interval 30\n",
            "Initializing cluster centers with k-means.\n"
          ],
          "name": "stdout"
        },
        {
          "output_type": "stream",
          "text": [
            "/usr/local/lib/python3.6/dist-packages/sklearn/utils/linear_assignment_.py:128: FutureWarning: The linear_assignment function is deprecated in 0.21 and will be removed from 0.23. Use scipy.optimize.linear_sum_assignment instead.\n",
            "  FutureWarning)\n"
          ],
          "name": "stderr"
        },
        {
          "output_type": "stream",
          "text": [
            "Iter 0: acc = 0.64101, nmi = 0.10949, ari = 0.16592, vm = 0.10949  ; loss= 0\n",
            "saving model to: ./results/temp/DEC_model_0.h5\n"
          ],
          "name": "stdout"
        },
        {
          "output_type": "stream",
          "text": [
            "/usr/local/lib/python3.6/dist-packages/sklearn/utils/linear_assignment_.py:128: FutureWarning: The linear_assignment function is deprecated in 0.21 and will be removed from 0.23. Use scipy.optimize.linear_sum_assignment instead.\n",
            "  FutureWarning)\n"
          ],
          "name": "stderr"
        },
        {
          "output_type": "stream",
          "text": [
            "Iter 30: acc = 0.64446, nmi = 0.14454, ari = 0.21583, vm = 0.14454  ; loss= 0.08315\n",
            "saving model to: ./results/temp/DEC_model_30.h5\n"
          ],
          "name": "stdout"
        },
        {
          "output_type": "stream",
          "text": [
            "/usr/local/lib/python3.6/dist-packages/sklearn/utils/linear_assignment_.py:128: FutureWarning: The linear_assignment function is deprecated in 0.21 and will be removed from 0.23. Use scipy.optimize.linear_sum_assignment instead.\n",
            "  FutureWarning)\n"
          ],
          "name": "stderr"
        },
        {
          "output_type": "stream",
          "text": [
            "Iter 60: acc = 0.63756, nmi = 0.17558, ari = 0.25361, vm = 0.17558  ; loss= 0.05804\n",
            "saving model to: ./results/temp/DEC_model_60.h5\n"
          ],
          "name": "stdout"
        },
        {
          "output_type": "stream",
          "text": [
            "/usr/local/lib/python3.6/dist-packages/sklearn/utils/linear_assignment_.py:128: FutureWarning: The linear_assignment function is deprecated in 0.21 and will be removed from 0.23. Use scipy.optimize.linear_sum_assignment instead.\n",
            "  FutureWarning)\n"
          ],
          "name": "stderr"
        },
        {
          "output_type": "stream",
          "text": [
            "Iter 90: acc = 0.63067, nmi = 0.21254, ari = 0.29832, vm = 0.21254  ; loss= 0.05525\n",
            "saving model to: ./results/temp/DEC_model_90.h5\n"
          ],
          "name": "stdout"
        },
        {
          "output_type": "stream",
          "text": [
            "/usr/local/lib/python3.6/dist-packages/sklearn/utils/linear_assignment_.py:128: FutureWarning: The linear_assignment function is deprecated in 0.21 and will be removed from 0.23. Use scipy.optimize.linear_sum_assignment instead.\n",
            "  FutureWarning)\n"
          ],
          "name": "stderr"
        },
        {
          "output_type": "stream",
          "text": [
            "Iter 120: acc = 0.62895, nmi = 0.22956, ari = 0.32063, vm = 0.22956  ; loss= 0.12983\n",
            "saving model to: ./results/temp/DEC_model_120.h5\n"
          ],
          "name": "stdout"
        },
        {
          "output_type": "stream",
          "text": [
            "/usr/local/lib/python3.6/dist-packages/sklearn/utils/linear_assignment_.py:128: FutureWarning: The linear_assignment function is deprecated in 0.21 and will be removed from 0.23. Use scipy.optimize.linear_sum_assignment instead.\n",
            "  FutureWarning)\n"
          ],
          "name": "stderr"
        },
        {
          "output_type": "stream",
          "text": [
            "Iter 150: acc = 0.63929, nmi = 0.25043, ari = 0.34221, vm = 0.25043  ; loss= 0.07538\n",
            "saving model to: ./results/temp/DEC_model_150.h5\n"
          ],
          "name": "stdout"
        },
        {
          "output_type": "stream",
          "text": [
            "/usr/local/lib/python3.6/dist-packages/sklearn/utils/linear_assignment_.py:128: FutureWarning: The linear_assignment function is deprecated in 0.21 and will be removed from 0.23. Use scipy.optimize.linear_sum_assignment instead.\n",
            "  FutureWarning)\n"
          ],
          "name": "stderr"
        },
        {
          "output_type": "stream",
          "text": [
            "Iter 180: acc = 0.64675, nmi = 0.26895, ari = 0.36147, vm = 0.26895  ; loss= 0.05996\n",
            "saving model to: ./results/temp/DEC_model_180.h5\n"
          ],
          "name": "stdout"
        },
        {
          "output_type": "stream",
          "text": [
            "/usr/local/lib/python3.6/dist-packages/sklearn/utils/linear_assignment_.py:128: FutureWarning: The linear_assignment function is deprecated in 0.21 and will be removed from 0.23. Use scipy.optimize.linear_sum_assignment instead.\n",
            "  FutureWarning)\n"
          ],
          "name": "stderr"
        },
        {
          "output_type": "stream",
          "text": [
            "Iter 210: acc = 0.64159, nmi = 0.26385, ari = 0.35291, vm = 0.26385  ; loss= 0.07136\n",
            "saving model to: ./results/temp/DEC_model_210.h5\n"
          ],
          "name": "stdout"
        },
        {
          "output_type": "stream",
          "text": [
            "/usr/local/lib/python3.6/dist-packages/sklearn/utils/linear_assignment_.py:128: FutureWarning: The linear_assignment function is deprecated in 0.21 and will be removed from 0.23. Use scipy.optimize.linear_sum_assignment instead.\n",
            "  FutureWarning)\n"
          ],
          "name": "stderr"
        },
        {
          "output_type": "stream",
          "text": [
            "Iter 240: acc = 0.64273, nmi = 0.27079, ari = 0.35771, vm = 0.27079  ; loss= 0.13064\n",
            "saving model to: ./results/temp/DEC_model_240.h5\n"
          ],
          "name": "stdout"
        },
        {
          "output_type": "stream",
          "text": [
            "/usr/local/lib/python3.6/dist-packages/sklearn/utils/linear_assignment_.py:128: FutureWarning: The linear_assignment function is deprecated in 0.21 and will be removed from 0.23. Use scipy.optimize.linear_sum_assignment instead.\n",
            "  FutureWarning)\n"
          ],
          "name": "stderr"
        },
        {
          "output_type": "stream",
          "text": [
            "Iter 270: acc = 0.64044, nmi = 0.26978, ari = 0.35402, vm = 0.26978  ; loss= 0.0568\n",
            "saving model to: ./results/temp/DEC_model_270.h5\n"
          ],
          "name": "stdout"
        },
        {
          "output_type": "stream",
          "text": [
            "/usr/local/lib/python3.6/dist-packages/sklearn/utils/linear_assignment_.py:128: FutureWarning: The linear_assignment function is deprecated in 0.21 and will be removed from 0.23. Use scipy.optimize.linear_sum_assignment instead.\n",
            "  FutureWarning)\n"
          ],
          "name": "stderr"
        },
        {
          "output_type": "stream",
          "text": [
            "Iter 300: acc = 0.64159, nmi = 0.27728, ari = 0.35829, vm = 0.27728  ; loss= 0.05613\n",
            "saving model to: ./results/temp/DEC_model_300.h5\n"
          ],
          "name": "stdout"
        },
        {
          "output_type": "stream",
          "text": [
            "/usr/local/lib/python3.6/dist-packages/sklearn/utils/linear_assignment_.py:128: FutureWarning: The linear_assignment function is deprecated in 0.21 and will be removed from 0.23. Use scipy.optimize.linear_sum_assignment instead.\n",
            "  FutureWarning)\n"
          ],
          "name": "stderr"
        },
        {
          "output_type": "stream",
          "text": [
            "Iter 330: acc = 0.64101, nmi = 0.27721, ari = 0.35752, vm = 0.27721  ; loss= 0.14572\n",
            "saving model to: ./results/temp/DEC_model_330.h5\n"
          ],
          "name": "stdout"
        },
        {
          "output_type": "stream",
          "text": [
            "/usr/local/lib/python3.6/dist-packages/sklearn/utils/linear_assignment_.py:128: FutureWarning: The linear_assignment function is deprecated in 0.21 and will be removed from 0.23. Use scipy.optimize.linear_sum_assignment instead.\n",
            "  FutureWarning)\n"
          ],
          "name": "stderr"
        },
        {
          "output_type": "stream",
          "text": [
            "Iter 360: acc = 0.63986, nmi = 0.27296, ari = 0.35629, vm = 0.27296  ; loss= 0.07268\n",
            "saving model to: ./results/temp/DEC_model_360.h5\n"
          ],
          "name": "stdout"
        },
        {
          "output_type": "stream",
          "text": [
            "/usr/local/lib/python3.6/dist-packages/sklearn/utils/linear_assignment_.py:128: FutureWarning: The linear_assignment function is deprecated in 0.21 and will be removed from 0.23. Use scipy.optimize.linear_sum_assignment instead.\n",
            "  FutureWarning)\n"
          ],
          "name": "stderr"
        },
        {
          "output_type": "stream",
          "text": [
            "Iter 390: acc = 0.63814, nmi = 0.27354, ari = 0.35435, vm = 0.27354  ; loss= 0.05113\n",
            "saving model to: ./results/temp/DEC_model_390.h5\n"
          ],
          "name": "stdout"
        },
        {
          "output_type": "stream",
          "text": [
            "/usr/local/lib/python3.6/dist-packages/sklearn/utils/linear_assignment_.py:128: FutureWarning: The linear_assignment function is deprecated in 0.21 and will be removed from 0.23. Use scipy.optimize.linear_sum_assignment instead.\n",
            "  FutureWarning)\n"
          ],
          "name": "stderr"
        },
        {
          "output_type": "stream",
          "text": [
            "Iter 420: acc = 0.63412, nmi = 0.26878, ari = 0.34632, vm = 0.26878  ; loss= 0.06224\n",
            "saving model to: ./results/temp/DEC_model_420.h5\n"
          ],
          "name": "stdout"
        },
        {
          "output_type": "stream",
          "text": [
            "/usr/local/lib/python3.6/dist-packages/sklearn/utils/linear_assignment_.py:128: FutureWarning: The linear_assignment function is deprecated in 0.21 and will be removed from 0.23. Use scipy.optimize.linear_sum_assignment instead.\n",
            "  FutureWarning)\n"
          ],
          "name": "stderr"
        },
        {
          "output_type": "stream",
          "text": [
            "Iter 450: acc = 0.63527, nmi = 0.27325, ari = 0.34941, vm = 0.27325  ; loss= 0.12766\n",
            "saving model to: ./results/temp/DEC_model_450.h5\n"
          ],
          "name": "stdout"
        },
        {
          "output_type": "stream",
          "text": [
            "/usr/local/lib/python3.6/dist-packages/sklearn/utils/linear_assignment_.py:128: FutureWarning: The linear_assignment function is deprecated in 0.21 and will be removed from 0.23. Use scipy.optimize.linear_sum_assignment instead.\n",
            "  FutureWarning)\n"
          ],
          "name": "stderr"
        },
        {
          "output_type": "stream",
          "text": [
            "Iter 480: acc = 0.63642, nmi = 0.27827, ari = 0.35155, vm = 0.27827  ; loss= 0.05253\n",
            "saving model to: ./results/temp/DEC_model_480.h5\n"
          ],
          "name": "stdout"
        },
        {
          "output_type": "stream",
          "text": [
            "/usr/local/lib/python3.6/dist-packages/sklearn/utils/linear_assignment_.py:128: FutureWarning: The linear_assignment function is deprecated in 0.21 and will be removed from 0.23. Use scipy.optimize.linear_sum_assignment instead.\n",
            "  FutureWarning)\n"
          ],
          "name": "stderr"
        },
        {
          "output_type": "stream",
          "text": [
            "Iter 510: acc = 0.63642, nmi = 0.27917, ari = 0.35182, vm = 0.27917  ; loss= 0.04865\n",
            "saving model to: ./results/temp/DEC_model_510.h5\n"
          ],
          "name": "stdout"
        },
        {
          "output_type": "stream",
          "text": [
            "/usr/local/lib/python3.6/dist-packages/sklearn/utils/linear_assignment_.py:128: FutureWarning: The linear_assignment function is deprecated in 0.21 and will be removed from 0.23. Use scipy.optimize.linear_sum_assignment instead.\n",
            "  FutureWarning)\n",
            "/usr/local/lib/python3.6/dist-packages/sklearn/utils/linear_assignment_.py:128: FutureWarning: The linear_assignment function is deprecated in 0.21 and will be removed from 0.23. Use scipy.optimize.linear_sum_assignment instead.\n",
            "  FutureWarning)\n",
            "/usr/local/lib/python3.6/dist-packages/sklearn/utils/linear_assignment_.py:128: FutureWarning: The linear_assignment function is deprecated in 0.21 and will be removed from 0.23. Use scipy.optimize.linear_sum_assignment instead.\n",
            "  FutureWarning)\n"
          ],
          "name": "stderr"
        },
        {
          "output_type": "stream",
          "text": [
            "Iter 540: acc = 0.63642, nmi = 0.27919, ari = 0.35184, vm = 0.27919  ; loss= 0.13279\n",
            "delta_label  0.0005743825387708214 < tol  0.001\n",
            "Reached tolerance threshold. Stopping training.\n",
            "saving model to: ./results/temp/DEC_model_final.h5\n",
            "acc: 0.6364158529580701\n",
            "clustering time:  118.62337160110474\n",
            "loading dataset...\n",
            "['beethoven_all/', 'handel_all/', 'mozart_all/', 'haydn_all/']\n"
          ],
          "name": "stdout"
        },
        {
          "output_type": "stream",
          "text": [
            "/usr/local/lib/python3.6/dist-packages/scipy/stats/stats.py:2419: RuntimeWarning: invalid value encountered in true_divide\n",
            "  return (a - mns) / sstd\n"
          ],
          "name": "stderr"
        },
        {
          "output_type": "stream",
          "text": [
            "(1480, 128000)\n",
            "(1480,)\n",
            "...Pretraining...\n",
            "Epoch 1/100\n",
            "1480/1480 [==============================] - 3s 2ms/step - loss: 0.5389\n",
            "Epoch 2/100\n",
            "1480/1480 [==============================] - 2s 2ms/step - loss: 0.5389\n",
            "Epoch 3/100\n",
            "1480/1480 [==============================] - 2s 2ms/step - loss: 0.5388\n",
            "Epoch 4/100\n",
            "1480/1480 [==============================] - 2s 2ms/step - loss: 0.5382\n",
            "Epoch 5/100\n",
            "1480/1480 [==============================] - 2s 2ms/step - loss: 0.5392\n",
            "Epoch 6/100\n",
            "1480/1480 [==============================] - 2s 2ms/step - loss: 0.5382\n",
            "Epoch 7/100\n",
            "1480/1480 [==============================] - 2s 2ms/step - loss: 0.5411\n",
            "Epoch 8/100\n",
            "1480/1480 [==============================] - 2s 2ms/step - loss: 0.5390\n",
            "Epoch 9/100\n",
            "1480/1480 [==============================] - 2s 2ms/step - loss: 0.5394\n",
            "Epoch 10/100\n",
            "1480/1480 [==============================] - 2s 2ms/step - loss: 0.5357\n",
            "Epoch 11/100\n",
            "1480/1480 [==============================] - 2s 2ms/step - loss: 0.5358\n",
            "Epoch 12/100\n",
            "1480/1480 [==============================] - 2s 2ms/step - loss: 0.5305\n",
            "Epoch 13/100\n",
            "1480/1480 [==============================] - 2s 2ms/step - loss: 0.5365\n",
            "Epoch 14/100\n",
            "1480/1480 [==============================] - 2s 2ms/step - loss: 0.5323\n",
            "Epoch 15/100\n",
            "1480/1480 [==============================] - 2s 2ms/step - loss: 0.5625\n",
            "Epoch 16/100\n",
            "1480/1480 [==============================] - 2s 2ms/step - loss: 0.5295\n",
            "Epoch 17/100\n",
            "1480/1480 [==============================] - 2s 2ms/step - loss: 0.5266\n",
            "Epoch 18/100\n",
            "1480/1480 [==============================] - 2s 2ms/step - loss: 0.5252\n",
            "Epoch 19/100\n",
            "1480/1480 [==============================] - 2s 2ms/step - loss: 0.5273\n",
            "Epoch 20/100\n",
            "1480/1480 [==============================] - 2s 2ms/step - loss: 0.5272\n",
            "Epoch 21/100\n",
            "1480/1480 [==============================] - 2s 2ms/step - loss: 0.5248\n",
            "Epoch 22/100\n",
            "1480/1480 [==============================] - 2s 2ms/step - loss: 0.5205\n",
            "Epoch 23/100\n",
            "1480/1480 [==============================] - 2s 2ms/step - loss: 0.5159\n",
            "Epoch 24/100\n",
            "1480/1480 [==============================] - 2s 2ms/step - loss: 0.5820\n",
            "Epoch 25/100\n",
            "1480/1480 [==============================] - 2s 2ms/step - loss: 0.5193\n",
            "Epoch 26/100\n",
            "1480/1480 [==============================] - 2s 2ms/step - loss: 0.5198\n",
            "Epoch 27/100\n",
            "1480/1480 [==============================] - 2s 2ms/step - loss: 0.5173\n",
            "Epoch 28/100\n",
            "1480/1480 [==============================] - 2s 2ms/step - loss: 0.5162\n",
            "Epoch 29/100\n",
            "1480/1480 [==============================] - 2s 2ms/step - loss: 0.5126\n",
            "Epoch 30/100\n",
            "1480/1480 [==============================] - 2s 2ms/step - loss: 0.5070\n",
            "Epoch 31/100\n",
            "1480/1480 [==============================] - 2s 2ms/step - loss: 0.5028\n",
            "Epoch 32/100\n",
            "1480/1480 [==============================] - 2s 2ms/step - loss: 0.5054\n",
            "Epoch 33/100\n",
            "1480/1480 [==============================] - 2s 2ms/step - loss: 0.5005\n",
            "Epoch 34/100\n",
            "1480/1480 [==============================] - 2s 2ms/step - loss: 0.4984\n",
            "Epoch 35/100\n",
            "1480/1480 [==============================] - 2s 2ms/step - loss: 0.4950\n",
            "Epoch 36/100\n",
            "1480/1480 [==============================] - 2s 2ms/step - loss: 0.4938\n",
            "Epoch 37/100\n",
            "1480/1480 [==============================] - 2s 2ms/step - loss: 0.4942\n",
            "Epoch 38/100\n",
            "1480/1480 [==============================] - 2s 2ms/step - loss: 0.4965\n",
            "Epoch 39/100\n",
            "1480/1480 [==============================] - 2s 2ms/step - loss: 0.4979\n",
            "Epoch 40/100\n",
            "1480/1480 [==============================] - 2s 2ms/step - loss: 0.4944\n",
            "Epoch 41/100\n",
            "1480/1480 [==============================] - 2s 2ms/step - loss: 0.4886\n",
            "Epoch 42/100\n",
            "1480/1480 [==============================] - 2s 2ms/step - loss: 0.4834\n",
            "Epoch 43/100\n",
            "1480/1480 [==============================] - 2s 2ms/step - loss: 0.4931\n",
            "Epoch 44/100\n",
            "1480/1480 [==============================] - 2s 2ms/step - loss: 0.4839\n",
            "Epoch 45/100\n",
            "1480/1480 [==============================] - 2s 2ms/step - loss: 0.4787\n",
            "Epoch 46/100\n",
            "1480/1480 [==============================] - 2s 2ms/step - loss: 0.4744\n",
            "Epoch 47/100\n",
            "1480/1480 [==============================] - 2s 2ms/step - loss: 0.4708\n",
            "Epoch 48/100\n",
            "1480/1480 [==============================] - 2s 2ms/step - loss: 0.4695\n",
            "Epoch 49/100\n",
            "1480/1480 [==============================] - 2s 2ms/step - loss: 0.4653\n",
            "Epoch 50/100\n",
            "1480/1480 [==============================] - 2s 2ms/step - loss: 0.4604\n",
            "Epoch 51/100\n",
            "1480/1480 [==============================] - 2s 2ms/step - loss: 0.4566\n",
            "Epoch 52/100\n",
            "1480/1480 [==============================] - 2s 2ms/step - loss: 0.4551\n",
            "Epoch 53/100\n",
            "1480/1480 [==============================] - 2s 2ms/step - loss: 0.4567\n",
            "Epoch 54/100\n",
            "1480/1480 [==============================] - 2s 2ms/step - loss: 0.4519\n",
            "Epoch 55/100\n",
            "1480/1480 [==============================] - 2s 2ms/step - loss: 0.4449\n",
            "Epoch 56/100\n",
            "1480/1480 [==============================] - 2s 2ms/step - loss: 0.4399\n",
            "Epoch 57/100\n",
            "1480/1480 [==============================] - 2s 2ms/step - loss: 0.4391\n",
            "Epoch 58/100\n",
            "1480/1480 [==============================] - 2s 2ms/step - loss: 0.4392\n",
            "Epoch 59/100\n",
            "1480/1480 [==============================] - 2s 2ms/step - loss: 0.4365\n",
            "Epoch 60/100\n",
            "1480/1480 [==============================] - 2s 2ms/step - loss: 0.4314\n",
            "Epoch 61/100\n",
            "1480/1480 [==============================] - 2s 2ms/step - loss: 0.4268\n",
            "Epoch 62/100\n",
            "1480/1480 [==============================] - 2s 2ms/step - loss: 0.4480\n",
            "Epoch 63/100\n",
            "1480/1480 [==============================] - 2s 2ms/step - loss: 0.4220\n",
            "Epoch 64/100\n",
            "1480/1480 [==============================] - 2s 2ms/step - loss: 0.4215\n",
            "Epoch 65/100\n",
            "1480/1480 [==============================] - 2s 2ms/step - loss: 0.4171\n",
            "Epoch 66/100\n",
            "1480/1480 [==============================] - 2s 2ms/step - loss: 0.4195\n",
            "Epoch 67/100\n",
            "1480/1480 [==============================] - 2s 2ms/step - loss: 0.4130\n",
            "Epoch 68/100\n",
            "1480/1480 [==============================] - 2s 2ms/step - loss: 0.4123\n",
            "Epoch 69/100\n",
            "1480/1480 [==============================] - 2s 2ms/step - loss: 0.4111\n",
            "Epoch 70/100\n",
            "1480/1480 [==============================] - 2s 2ms/step - loss: 0.4065\n",
            "Epoch 71/100\n",
            "1480/1480 [==============================] - 2s 2ms/step - loss: 0.4021\n",
            "Epoch 72/100\n",
            "1480/1480 [==============================] - 2s 2ms/step - loss: 0.3975\n",
            "Epoch 73/100\n",
            "1480/1480 [==============================] - 2s 2ms/step - loss: 0.3945\n",
            "Epoch 74/100\n",
            "1480/1480 [==============================] - 2s 2ms/step - loss: 0.3906\n",
            "Epoch 75/100\n",
            "1480/1480 [==============================] - 2s 2ms/step - loss: 0.3854\n",
            "Epoch 76/100\n",
            "1480/1480 [==============================] - 2s 2ms/step - loss: 0.3822\n",
            "Epoch 77/100\n",
            "1480/1480 [==============================] - 2s 2ms/step - loss: 0.3785\n",
            "Epoch 78/100\n",
            "1480/1480 [==============================] - 2s 2ms/step - loss: 0.3758\n",
            "Epoch 79/100\n",
            "1480/1480 [==============================] - 2s 2ms/step - loss: 0.3730\n",
            "Epoch 80/100\n",
            "1480/1480 [==============================] - 2s 2ms/step - loss: 0.3705\n",
            "Epoch 81/100\n",
            "1480/1480 [==============================] - 2s 2ms/step - loss: 0.3678\n",
            "Epoch 82/100\n",
            "1480/1480 [==============================] - 2s 2ms/step - loss: 0.3657\n",
            "Epoch 83/100\n",
            "1480/1480 [==============================] - 2s 2ms/step - loss: 0.3635\n",
            "Epoch 84/100\n",
            "1480/1480 [==============================] - 2s 2ms/step - loss: 0.3632\n",
            "Epoch 85/100\n",
            "1480/1480 [==============================] - 2s 2ms/step - loss: 0.3632\n",
            "Epoch 86/100\n",
            "1480/1480 [==============================] - 2s 2ms/step - loss: 0.3605\n",
            "Epoch 87/100\n",
            "1480/1480 [==============================] - 2s 2ms/step - loss: 0.3598\n",
            "Epoch 88/100\n",
            "1480/1480 [==============================] - 2s 2ms/step - loss: 0.3569\n",
            "Epoch 89/100\n",
            "1480/1480 [==============================] - 2s 2ms/step - loss: 0.3543\n",
            "Epoch 90/100\n",
            "1480/1480 [==============================] - 2s 2ms/step - loss: 0.3520\n",
            "Epoch 91/100\n",
            "1480/1480 [==============================] - 2s 2ms/step - loss: 0.3486\n",
            "Epoch 92/100\n",
            "1480/1480 [==============================] - 2s 2ms/step - loss: 0.3470\n",
            "Epoch 93/100\n",
            "1480/1480 [==============================] - 2s 2ms/step - loss: 0.3451\n",
            "Epoch 94/100\n",
            "1480/1480 [==============================] - 2s 2ms/step - loss: 0.3423\n",
            "Epoch 95/100\n",
            "1480/1480 [==============================] - 2s 2ms/step - loss: 0.3407\n",
            "Epoch 96/100\n",
            "1480/1480 [==============================] - 2s 2ms/step - loss: 0.3385\n",
            "Epoch 97/100\n",
            "1480/1480 [==============================] - 2s 2ms/step - loss: 0.3363\n",
            "Epoch 98/100\n",
            "1480/1480 [==============================] - 2s 2ms/step - loss: 0.3440\n",
            "Epoch 99/100\n",
            "1480/1480 [==============================] - 2s 2ms/step - loss: 0.3368\n",
            "Epoch 100/100\n",
            "1480/1480 [==============================] - 2s 2ms/step - loss: 0.3423\n",
            "Pretraining time: 229s\n",
            "Pretrained weights are saved to results/temp/ae_weights.h5\n",
            "Model: \"model_6\"\n",
            "_________________________________________________________________\n",
            "Layer (type)                 Output Shape              Param #   \n",
            "=================================================================\n",
            "input (InputLayer)           (None, 128000)            0         \n",
            "_________________________________________________________________\n",
            "encoder_0 (Dense)            (None, 500)               64000500  \n",
            "_________________________________________________________________\n",
            "encoder_1 (Dense)            (None, 500)               250500    \n",
            "_________________________________________________________________\n",
            "encoder_2 (Dense)            (None, 2000)              1002000   \n",
            "_________________________________________________________________\n",
            "encoder_3 (Dense)            (None, 10)                20010     \n",
            "_________________________________________________________________\n",
            "clustering (ClusteringLayer) (None, 4)                 40        \n",
            "=================================================================\n",
            "Total params: 65,273,050\n",
            "Trainable params: 65,273,050\n",
            "Non-trainable params: 0\n",
            "_________________________________________________________________\n",
            "Update interval 30\n",
            "Save interval 25\n",
            "Initializing cluster centers with k-means.\n"
          ],
          "name": "stdout"
        },
        {
          "output_type": "stream",
          "text": [
            "/usr/local/lib/python3.6/dist-packages/sklearn/utils/linear_assignment_.py:128: FutureWarning: The linear_assignment function is deprecated in 0.21 and will be removed from 0.23. Use scipy.optimize.linear_sum_assignment instead.\n",
            "  FutureWarning)\n"
          ],
          "name": "stderr"
        },
        {
          "output_type": "stream",
          "text": [
            "Iter 0: acc = 0.34257, nmi = 0.03368, ari = 0.01303, vm = 0.03368  ; loss= 0\n",
            "saving model to: ./results/temp/DEC_model_0.h5\n",
            "saving model to: ./results/temp/DEC_model_25.h5\n"
          ],
          "name": "stdout"
        },
        {
          "output_type": "stream",
          "text": [
            "/usr/local/lib/python3.6/dist-packages/sklearn/utils/linear_assignment_.py:128: FutureWarning: The linear_assignment function is deprecated in 0.21 and will be removed from 0.23. Use scipy.optimize.linear_sum_assignment instead.\n",
            "  FutureWarning)\n"
          ],
          "name": "stderr"
        },
        {
          "output_type": "stream",
          "text": [
            "Iter 30: acc = 0.34122, nmi = 0.03243, ari = 0.01426, vm = 0.03243  ; loss= 0.04869\n",
            "saving model to: ./results/temp/DEC_model_50.h5\n"
          ],
          "name": "stdout"
        },
        {
          "output_type": "stream",
          "text": [
            "/usr/local/lib/python3.6/dist-packages/sklearn/utils/linear_assignment_.py:128: FutureWarning: The linear_assignment function is deprecated in 0.21 and will be removed from 0.23. Use scipy.optimize.linear_sum_assignment instead.\n",
            "  FutureWarning)\n"
          ],
          "name": "stderr"
        },
        {
          "output_type": "stream",
          "text": [
            "Iter 60: acc = 0.34730, nmi = 0.03554, ari = 0.01796, vm = 0.03554  ; loss= 0.05052\n",
            "saving model to: ./results/temp/DEC_model_75.h5\n"
          ],
          "name": "stdout"
        },
        {
          "output_type": "stream",
          "text": [
            "/usr/local/lib/python3.6/dist-packages/sklearn/utils/linear_assignment_.py:128: FutureWarning: The linear_assignment function is deprecated in 0.21 and will be removed from 0.23. Use scipy.optimize.linear_sum_assignment instead.\n",
            "  FutureWarning)\n"
          ],
          "name": "stderr"
        },
        {
          "output_type": "stream",
          "text": [
            "Iter 90: acc = 0.35135, nmi = 0.03649, ari = 0.02121, vm = 0.03649  ; loss= 0.05246\n",
            "saving model to: ./results/temp/DEC_model_100.h5\n"
          ],
          "name": "stdout"
        },
        {
          "output_type": "stream",
          "text": [
            "/usr/local/lib/python3.6/dist-packages/sklearn/utils/linear_assignment_.py:128: FutureWarning: The linear_assignment function is deprecated in 0.21 and will be removed from 0.23. Use scipy.optimize.linear_sum_assignment instead.\n",
            "  FutureWarning)\n"
          ],
          "name": "stderr"
        },
        {
          "output_type": "stream",
          "text": [
            "Iter 120: acc = 0.35405, nmi = 0.03855, ari = 0.02556, vm = 0.03855  ; loss= 0.0536\n",
            "saving model to: ./results/temp/DEC_model_125.h5\n"
          ],
          "name": "stdout"
        },
        {
          "output_type": "stream",
          "text": [
            "/usr/local/lib/python3.6/dist-packages/sklearn/utils/linear_assignment_.py:128: FutureWarning: The linear_assignment function is deprecated in 0.21 and will be removed from 0.23. Use scipy.optimize.linear_sum_assignment instead.\n",
            "  FutureWarning)\n"
          ],
          "name": "stderr"
        },
        {
          "output_type": "stream",
          "text": [
            "Iter 150: acc = 0.35405, nmi = 0.03957, ari = 0.02954, vm = 0.03957  ; loss= 0.0545\n",
            "saving model to: ./results/temp/DEC_model_150.h5\n",
            "saving model to: ./results/temp/DEC_model_175.h5\n"
          ],
          "name": "stdout"
        },
        {
          "output_type": "stream",
          "text": [
            "/usr/local/lib/python3.6/dist-packages/sklearn/utils/linear_assignment_.py:128: FutureWarning: The linear_assignment function is deprecated in 0.21 and will be removed from 0.23. Use scipy.optimize.linear_sum_assignment instead.\n",
            "  FutureWarning)\n"
          ],
          "name": "stderr"
        },
        {
          "output_type": "stream",
          "text": [
            "Iter 180: acc = 0.35338, nmi = 0.03887, ari = 0.03015, vm = 0.03887  ; loss= 0.0552\n",
            "saving model to: ./results/temp/DEC_model_200.h5\n"
          ],
          "name": "stdout"
        },
        {
          "output_type": "stream",
          "text": [
            "/usr/local/lib/python3.6/dist-packages/sklearn/utils/linear_assignment_.py:128: FutureWarning: The linear_assignment function is deprecated in 0.21 and will be removed from 0.23. Use scipy.optimize.linear_sum_assignment instead.\n",
            "  FutureWarning)\n"
          ],
          "name": "stderr"
        },
        {
          "output_type": "stream",
          "text": [
            "Iter 210: acc = 0.35676, nmi = 0.03968, ari = 0.03318, vm = 0.03968  ; loss= 0.05559\n",
            "saving model to: ./results/temp/DEC_model_225.h5\n"
          ],
          "name": "stdout"
        },
        {
          "output_type": "stream",
          "text": [
            "/usr/local/lib/python3.6/dist-packages/sklearn/utils/linear_assignment_.py:128: FutureWarning: The linear_assignment function is deprecated in 0.21 and will be removed from 0.23. Use scipy.optimize.linear_sum_assignment instead.\n",
            "  FutureWarning)\n"
          ],
          "name": "stderr"
        },
        {
          "output_type": "stream",
          "text": [
            "Iter 240: acc = 0.35946, nmi = 0.04120, ari = 0.03637, vm = 0.04120  ; loss= 0.05542\n",
            "saving model to: ./results/temp/DEC_model_250.h5\n"
          ],
          "name": "stdout"
        },
        {
          "output_type": "stream",
          "text": [
            "/usr/local/lib/python3.6/dist-packages/sklearn/utils/linear_assignment_.py:128: FutureWarning: The linear_assignment function is deprecated in 0.21 and will be removed from 0.23. Use scipy.optimize.linear_sum_assignment instead.\n",
            "  FutureWarning)\n"
          ],
          "name": "stderr"
        },
        {
          "output_type": "stream",
          "text": [
            "Iter 270: acc = 0.35811, nmi = 0.04157, ari = 0.03737, vm = 0.04157  ; loss= 0.05499\n",
            "saving model to: ./results/temp/DEC_model_275.h5\n"
          ],
          "name": "stdout"
        },
        {
          "output_type": "stream",
          "text": [
            "/usr/local/lib/python3.6/dist-packages/sklearn/utils/linear_assignment_.py:128: FutureWarning: The linear_assignment function is deprecated in 0.21 and will be removed from 0.23. Use scipy.optimize.linear_sum_assignment instead.\n",
            "  FutureWarning)\n"
          ],
          "name": "stderr"
        },
        {
          "output_type": "stream",
          "text": [
            "Iter 300: acc = 0.36216, nmi = 0.04205, ari = 0.03807, vm = 0.04205  ; loss= 0.05443\n",
            "saving model to: ./results/temp/DEC_model_300.h5\n",
            "saving model to: ./results/temp/DEC_model_325.h5\n"
          ],
          "name": "stdout"
        },
        {
          "output_type": "stream",
          "text": [
            "/usr/local/lib/python3.6/dist-packages/sklearn/utils/linear_assignment_.py:128: FutureWarning: The linear_assignment function is deprecated in 0.21 and will be removed from 0.23. Use scipy.optimize.linear_sum_assignment instead.\n",
            "  FutureWarning)\n"
          ],
          "name": "stderr"
        },
        {
          "output_type": "stream",
          "text": [
            "Iter 330: acc = 0.35878, nmi = 0.03916, ari = 0.03759, vm = 0.03916  ; loss= 0.05392\n",
            "saving model to: ./results/temp/DEC_model_350.h5\n"
          ],
          "name": "stdout"
        },
        {
          "output_type": "stream",
          "text": [
            "/usr/local/lib/python3.6/dist-packages/sklearn/utils/linear_assignment_.py:128: FutureWarning: The linear_assignment function is deprecated in 0.21 and will be removed from 0.23. Use scipy.optimize.linear_sum_assignment instead.\n",
            "  FutureWarning)\n"
          ],
          "name": "stderr"
        },
        {
          "output_type": "stream",
          "text": [
            "Iter 360: acc = 0.35878, nmi = 0.03817, ari = 0.03809, vm = 0.03817  ; loss= 0.05341\n",
            "saving model to: ./results/temp/DEC_model_375.h5\n"
          ],
          "name": "stdout"
        },
        {
          "output_type": "stream",
          "text": [
            "/usr/local/lib/python3.6/dist-packages/sklearn/utils/linear_assignment_.py:128: FutureWarning: The linear_assignment function is deprecated in 0.21 and will be removed from 0.23. Use scipy.optimize.linear_sum_assignment instead.\n",
            "  FutureWarning)\n"
          ],
          "name": "stderr"
        },
        {
          "output_type": "stream",
          "text": [
            "Iter 390: acc = 0.35878, nmi = 0.03922, ari = 0.04010, vm = 0.03922  ; loss= 0.05282\n",
            "saving model to: ./results/temp/DEC_model_400.h5\n"
          ],
          "name": "stdout"
        },
        {
          "output_type": "stream",
          "text": [
            "/usr/local/lib/python3.6/dist-packages/sklearn/utils/linear_assignment_.py:128: FutureWarning: The linear_assignment function is deprecated in 0.21 and will be removed from 0.23. Use scipy.optimize.linear_sum_assignment instead.\n",
            "  FutureWarning)\n"
          ],
          "name": "stderr"
        },
        {
          "output_type": "stream",
          "text": [
            "Iter 420: acc = 0.35743, nmi = 0.03959, ari = 0.04034, vm = 0.03959  ; loss= 0.05211\n",
            "saving model to: ./results/temp/DEC_model_425.h5\n"
          ],
          "name": "stdout"
        },
        {
          "output_type": "stream",
          "text": [
            "/usr/local/lib/python3.6/dist-packages/sklearn/utils/linear_assignment_.py:128: FutureWarning: The linear_assignment function is deprecated in 0.21 and will be removed from 0.23. Use scipy.optimize.linear_sum_assignment instead.\n",
            "  FutureWarning)\n"
          ],
          "name": "stderr"
        },
        {
          "output_type": "stream",
          "text": [
            "Iter 450: acc = 0.35676, nmi = 0.03974, ari = 0.04029, vm = 0.03974  ; loss= 0.05123\n",
            "saving model to: ./results/temp/DEC_model_450.h5\n",
            "saving model to: ./results/temp/DEC_model_475.h5\n"
          ],
          "name": "stdout"
        },
        {
          "output_type": "stream",
          "text": [
            "/usr/local/lib/python3.6/dist-packages/sklearn/utils/linear_assignment_.py:128: FutureWarning: The linear_assignment function is deprecated in 0.21 and will be removed from 0.23. Use scipy.optimize.linear_sum_assignment instead.\n",
            "  FutureWarning)\n"
          ],
          "name": "stderr"
        },
        {
          "output_type": "stream",
          "text": [
            "Iter 480: acc = 0.35676, nmi = 0.04061, ari = 0.04171, vm = 0.04061  ; loss= 0.05027\n",
            "saving model to: ./results/temp/DEC_model_500.h5\n"
          ],
          "name": "stdout"
        },
        {
          "output_type": "stream",
          "text": [
            "/usr/local/lib/python3.6/dist-packages/sklearn/utils/linear_assignment_.py:128: FutureWarning: The linear_assignment function is deprecated in 0.21 and will be removed from 0.23. Use scipy.optimize.linear_sum_assignment instead.\n",
            "  FutureWarning)\n"
          ],
          "name": "stderr"
        },
        {
          "output_type": "stream",
          "text": [
            "Iter 510: acc = 0.35743, nmi = 0.04134, ari = 0.04243, vm = 0.04134  ; loss= 0.04938\n",
            "saving model to: ./results/temp/DEC_model_525.h5\n"
          ],
          "name": "stdout"
        },
        {
          "output_type": "stream",
          "text": [
            "/usr/local/lib/python3.6/dist-packages/sklearn/utils/linear_assignment_.py:128: FutureWarning: The linear_assignment function is deprecated in 0.21 and will be removed from 0.23. Use scipy.optimize.linear_sum_assignment instead.\n",
            "  FutureWarning)\n"
          ],
          "name": "stderr"
        },
        {
          "output_type": "stream",
          "text": [
            "Iter 540: acc = 0.35811, nmi = 0.04165, ari = 0.04237, vm = 0.04165  ; loss= 0.04865\n",
            "saving model to: ./results/temp/DEC_model_550.h5\n"
          ],
          "name": "stdout"
        },
        {
          "output_type": "stream",
          "text": [
            "/usr/local/lib/python3.6/dist-packages/sklearn/utils/linear_assignment_.py:128: FutureWarning: The linear_assignment function is deprecated in 0.21 and will be removed from 0.23. Use scipy.optimize.linear_sum_assignment instead.\n",
            "  FutureWarning)\n"
          ],
          "name": "stderr"
        },
        {
          "output_type": "stream",
          "text": [
            "Iter 570: acc = 0.35743, nmi = 0.04104, ari = 0.04158, vm = 0.04104  ; loss= 0.04799\n",
            "saving model to: ./results/temp/DEC_model_575.h5\n"
          ],
          "name": "stdout"
        },
        {
          "output_type": "stream",
          "text": [
            "/usr/local/lib/python3.6/dist-packages/sklearn/utils/linear_assignment_.py:128: FutureWarning: The linear_assignment function is deprecated in 0.21 and will be removed from 0.23. Use scipy.optimize.linear_sum_assignment instead.\n",
            "  FutureWarning)\n"
          ],
          "name": "stderr"
        },
        {
          "output_type": "stream",
          "text": [
            "Iter 600: acc = 0.35743, nmi = 0.04059, ari = 0.04087, vm = 0.04059  ; loss= 0.04741\n",
            "saving model to: ./results/temp/DEC_model_600.h5\n",
            "saving model to: ./results/temp/DEC_model_625.h5\n"
          ],
          "name": "stdout"
        },
        {
          "output_type": "stream",
          "text": [
            "/usr/local/lib/python3.6/dist-packages/sklearn/utils/linear_assignment_.py:128: FutureWarning: The linear_assignment function is deprecated in 0.21 and will be removed from 0.23. Use scipy.optimize.linear_sum_assignment instead.\n",
            "  FutureWarning)\n"
          ],
          "name": "stderr"
        },
        {
          "output_type": "stream",
          "text": [
            "Iter 630: acc = 0.35811, nmi = 0.04171, ari = 0.04162, vm = 0.04171  ; loss= 0.04686\n",
            "saving model to: ./results/temp/DEC_model_650.h5\n"
          ],
          "name": "stdout"
        },
        {
          "output_type": "stream",
          "text": [
            "/usr/local/lib/python3.6/dist-packages/sklearn/utils/linear_assignment_.py:128: FutureWarning: The linear_assignment function is deprecated in 0.21 and will be removed from 0.23. Use scipy.optimize.linear_sum_assignment instead.\n",
            "  FutureWarning)\n"
          ],
          "name": "stderr"
        },
        {
          "output_type": "stream",
          "text": [
            "Iter 660: acc = 0.35946, nmi = 0.04349, ari = 0.04345, vm = 0.04349  ; loss= 0.04636\n",
            "saving model to: ./results/temp/DEC_model_675.h5\n"
          ],
          "name": "stdout"
        },
        {
          "output_type": "stream",
          "text": [
            "/usr/local/lib/python3.6/dist-packages/sklearn/utils/linear_assignment_.py:128: FutureWarning: The linear_assignment function is deprecated in 0.21 and will be removed from 0.23. Use scipy.optimize.linear_sum_assignment instead.\n",
            "  FutureWarning)\n"
          ],
          "name": "stderr"
        },
        {
          "output_type": "stream",
          "text": [
            "Iter 690: acc = 0.35676, nmi = 0.04225, ari = 0.04151, vm = 0.04225  ; loss= 0.04586\n",
            "saving model to: ./results/temp/DEC_model_700.h5\n"
          ],
          "name": "stdout"
        },
        {
          "output_type": "stream",
          "text": [
            "/usr/local/lib/python3.6/dist-packages/sklearn/utils/linear_assignment_.py:128: FutureWarning: The linear_assignment function is deprecated in 0.21 and will be removed from 0.23. Use scipy.optimize.linear_sum_assignment instead.\n",
            "  FutureWarning)\n"
          ],
          "name": "stderr"
        },
        {
          "output_type": "stream",
          "text": [
            "Iter 720: acc = 0.35541, nmi = 0.04140, ari = 0.04054, vm = 0.04140  ; loss= 0.04536\n",
            "saving model to: ./results/temp/DEC_model_725.h5\n"
          ],
          "name": "stdout"
        },
        {
          "output_type": "stream",
          "text": [
            "/usr/local/lib/python3.6/dist-packages/sklearn/utils/linear_assignment_.py:128: FutureWarning: The linear_assignment function is deprecated in 0.21 and will be removed from 0.23. Use scipy.optimize.linear_sum_assignment instead.\n",
            "  FutureWarning)\n"
          ],
          "name": "stderr"
        },
        {
          "output_type": "stream",
          "text": [
            "Iter 750: acc = 0.35473, nmi = 0.04200, ari = 0.04107, vm = 0.04200  ; loss= 0.04484\n",
            "saving model to: ./results/temp/DEC_model_750.h5\n",
            "saving model to: ./results/temp/DEC_model_775.h5\n"
          ],
          "name": "stdout"
        },
        {
          "output_type": "stream",
          "text": [
            "/usr/local/lib/python3.6/dist-packages/sklearn/utils/linear_assignment_.py:128: FutureWarning: The linear_assignment function is deprecated in 0.21 and will be removed from 0.23. Use scipy.optimize.linear_sum_assignment instead.\n",
            "  FutureWarning)\n"
          ],
          "name": "stderr"
        },
        {
          "output_type": "stream",
          "text": [
            "Iter 780: acc = 0.35541, nmi = 0.04282, ari = 0.04210, vm = 0.04282  ; loss= 0.04433\n",
            "saving model to: ./results/temp/DEC_model_800.h5\n"
          ],
          "name": "stdout"
        },
        {
          "output_type": "stream",
          "text": [
            "/usr/local/lib/python3.6/dist-packages/sklearn/utils/linear_assignment_.py:128: FutureWarning: The linear_assignment function is deprecated in 0.21 and will be removed from 0.23. Use scipy.optimize.linear_sum_assignment instead.\n",
            "  FutureWarning)\n",
            "/usr/local/lib/python3.6/dist-packages/sklearn/utils/linear_assignment_.py:128: FutureWarning: The linear_assignment function is deprecated in 0.21 and will be removed from 0.23. Use scipy.optimize.linear_sum_assignment instead.\n",
            "  FutureWarning)\n",
            "/usr/local/lib/python3.6/dist-packages/sklearn/utils/linear_assignment_.py:128: FutureWarning: The linear_assignment function is deprecated in 0.21 and will be removed from 0.23. Use scipy.optimize.linear_sum_assignment instead.\n",
            "  FutureWarning)\n"
          ],
          "name": "stderr"
        },
        {
          "output_type": "stream",
          "text": [
            "Iter 810: acc = 0.35473, nmi = 0.04277, ari = 0.04201, vm = 0.04277  ; loss= 0.04378\n",
            "delta_label  0.0006756756756756757 < tol  0.001\n",
            "Reached tolerance threshold. Stopping training.\n",
            "saving model to: ./results/temp/DEC_model_final.h5\n",
            "acc: 0.3547297297297297\n",
            "clustering time:  170.9223370552063\n",
            "loading dataset...\n",
            "['brahms_all/', 'chopin_all/', 'schubert_all/', 'faure_(c)contributors-kunstderfuge/']\n"
          ],
          "name": "stdout"
        },
        {
          "output_type": "stream",
          "text": [
            "/usr/local/lib/python3.6/dist-packages/scipy/stats/stats.py:2419: RuntimeWarning: invalid value encountered in true_divide\n",
            "  return (a - mns) / sstd\n"
          ],
          "name": "stderr"
        },
        {
          "output_type": "stream",
          "text": [
            "(518, 128000)\n",
            "(518,)\n",
            "...Pretraining...\n",
            "Epoch 1/100\n",
            "518/518 [==============================] - 1s 2ms/step - loss: 0.5782\n",
            "Epoch 2/100\n",
            "518/518 [==============================] - 1s 2ms/step - loss: 0.5782\n",
            "Epoch 3/100\n",
            "518/518 [==============================] - 1s 2ms/step - loss: 0.5782\n",
            "Epoch 4/100\n",
            "518/518 [==============================] - 1s 2ms/step - loss: 0.5781\n",
            "Epoch 5/100\n",
            "518/518 [==============================] - 1s 2ms/step - loss: 0.5776\n",
            "Epoch 6/100\n",
            "518/518 [==============================] - 1s 2ms/step - loss: 0.5759\n",
            "Epoch 7/100\n",
            "518/518 [==============================] - 1s 2ms/step - loss: 0.5747\n",
            "Epoch 8/100\n",
            "518/518 [==============================] - 1s 2ms/step - loss: 0.5738\n",
            "Epoch 9/100\n",
            "518/518 [==============================] - 1s 2ms/step - loss: 0.5721\n",
            "Epoch 10/100\n",
            "518/518 [==============================] - 1s 2ms/step - loss: 0.5696\n",
            "Epoch 11/100\n",
            "518/518 [==============================] - 1s 2ms/step - loss: 0.5825\n",
            "Epoch 12/100\n",
            "518/518 [==============================] - 1s 2ms/step - loss: 0.5722\n",
            "Epoch 13/100\n",
            "518/518 [==============================] - 1s 2ms/step - loss: 0.5692\n",
            "Epoch 14/100\n",
            "518/518 [==============================] - 1s 2ms/step - loss: 0.5665\n",
            "Epoch 15/100\n",
            "518/518 [==============================] - 1s 2ms/step - loss: 0.5627\n",
            "Epoch 16/100\n",
            "518/518 [==============================] - 1s 2ms/step - loss: 0.5568\n",
            "Epoch 17/100\n",
            "518/518 [==============================] - 1s 2ms/step - loss: 0.5516\n",
            "Epoch 18/100\n",
            "518/518 [==============================] - 1s 2ms/step - loss: 0.5496\n",
            "Epoch 19/100\n",
            "518/518 [==============================] - 1s 2ms/step - loss: 0.5981\n",
            "Epoch 20/100\n",
            "518/518 [==============================] - 1s 2ms/step - loss: 0.5543\n",
            "Epoch 21/100\n",
            "518/518 [==============================] - 1s 2ms/step - loss: 0.5862\n",
            "Epoch 22/100\n",
            "518/518 [==============================] - 1s 2ms/step - loss: 0.5580\n",
            "Epoch 23/100\n",
            "518/518 [==============================] - 1s 2ms/step - loss: 0.5549\n",
            "Epoch 24/100\n",
            "518/518 [==============================] - 1s 2ms/step - loss: 0.5518\n",
            "Epoch 25/100\n",
            "518/518 [==============================] - 1s 2ms/step - loss: 0.5466\n",
            "Epoch 26/100\n",
            "518/518 [==============================] - 1s 2ms/step - loss: 0.5430\n",
            "Epoch 27/100\n",
            "518/518 [==============================] - 1s 2ms/step - loss: 0.5369\n",
            "Epoch 28/100\n",
            "518/518 [==============================] - 1s 2ms/step - loss: 0.5321\n",
            "Epoch 29/100\n",
            "518/518 [==============================] - 1s 2ms/step - loss: 0.5263\n",
            "Epoch 30/100\n",
            "518/518 [==============================] - 1s 2ms/step - loss: 0.5213\n",
            "Epoch 31/100\n",
            "518/518 [==============================] - 1s 2ms/step - loss: 0.5180\n",
            "Epoch 32/100\n",
            "518/518 [==============================] - 1s 2ms/step - loss: 0.5166\n",
            "Epoch 33/100\n",
            "518/518 [==============================] - 1s 2ms/step - loss: 0.5131\n",
            "Epoch 34/100\n",
            "518/518 [==============================] - 1s 2ms/step - loss: 0.5082\n",
            "Epoch 35/100\n",
            "518/518 [==============================] - 1s 2ms/step - loss: 0.5082\n",
            "Epoch 36/100\n",
            "518/518 [==============================] - 1s 2ms/step - loss: 0.5026\n",
            "Epoch 37/100\n",
            "518/518 [==============================] - 1s 2ms/step - loss: 0.5035\n",
            "Epoch 38/100\n",
            "518/518 [==============================] - 1s 2ms/step - loss: 0.5087\n",
            "Epoch 39/100\n",
            "518/518 [==============================] - 1s 2ms/step - loss: 0.5111\n",
            "Epoch 40/100\n",
            "518/518 [==============================] - 1s 2ms/step - loss: 0.5104\n",
            "Epoch 41/100\n",
            "518/518 [==============================] - 1s 2ms/step - loss: 0.5085\n",
            "Epoch 42/100\n",
            "518/518 [==============================] - 1s 2ms/step - loss: 0.5030\n",
            "Epoch 43/100\n",
            "518/518 [==============================] - 1s 2ms/step - loss: 0.5061\n",
            "Epoch 44/100\n",
            "518/518 [==============================] - 1s 2ms/step - loss: 0.5137\n",
            "Epoch 45/100\n",
            "518/518 [==============================] - 1s 2ms/step - loss: 0.5080\n",
            "Epoch 46/100\n",
            "518/518 [==============================] - 1s 2ms/step - loss: 0.5012\n",
            "Epoch 47/100\n",
            "518/518 [==============================] - 1s 2ms/step - loss: 0.4937\n",
            "Epoch 48/100\n",
            "518/518 [==============================] - 1s 2ms/step - loss: 0.4895\n",
            "Epoch 49/100\n",
            "518/518 [==============================] - 1s 2ms/step - loss: 0.4892\n",
            "Epoch 50/100\n",
            "518/518 [==============================] - 1s 2ms/step - loss: 0.4804\n",
            "Epoch 51/100\n",
            "518/518 [==============================] - 1s 2ms/step - loss: 0.4782\n",
            "Epoch 52/100\n",
            "518/518 [==============================] - 1s 2ms/step - loss: 0.4753\n",
            "Epoch 53/100\n",
            "518/518 [==============================] - 1s 2ms/step - loss: 0.4707\n",
            "Epoch 54/100\n",
            "518/518 [==============================] - 1s 2ms/step - loss: 0.4649\n",
            "Epoch 55/100\n",
            "518/518 [==============================] - 1s 2ms/step - loss: 0.4599\n",
            "Epoch 56/100\n",
            "518/518 [==============================] - 1s 2ms/step - loss: 0.4619\n",
            "Epoch 57/100\n",
            "518/518 [==============================] - 1s 2ms/step - loss: 0.4623\n",
            "Epoch 58/100\n",
            "518/518 [==============================] - 1s 2ms/step - loss: 0.4598\n",
            "Epoch 59/100\n",
            "518/518 [==============================] - 1s 2ms/step - loss: 0.4555\n",
            "Epoch 60/100\n",
            "518/518 [==============================] - 1s 2ms/step - loss: 0.4554\n",
            "Epoch 61/100\n",
            "518/518 [==============================] - 1s 2ms/step - loss: 0.4493\n",
            "Epoch 62/100\n",
            "518/518 [==============================] - 1s 2ms/step - loss: 0.4463\n",
            "Epoch 63/100\n",
            "518/518 [==============================] - 1s 2ms/step - loss: 0.4441\n",
            "Epoch 64/100\n",
            "518/518 [==============================] - 1s 2ms/step - loss: 0.4409\n",
            "Epoch 65/100\n",
            "518/518 [==============================] - 1s 2ms/step - loss: 0.4350\n",
            "Epoch 66/100\n",
            "518/518 [==============================] - 1s 2ms/step - loss: 0.4289\n",
            "Epoch 67/100\n",
            "518/518 [==============================] - 1s 2ms/step - loss: 0.4779\n",
            "Epoch 68/100\n",
            "518/518 [==============================] - 1s 2ms/step - loss: 0.4434\n",
            "Epoch 69/100\n",
            "518/518 [==============================] - 1s 2ms/step - loss: 0.4403\n",
            "Epoch 70/100\n",
            "518/518 [==============================] - 1s 2ms/step - loss: 0.4666\n",
            "Epoch 71/100\n",
            "518/518 [==============================] - 1s 2ms/step - loss: 0.4465\n",
            "Epoch 72/100\n",
            "518/518 [==============================] - 1s 2ms/step - loss: 0.4415\n",
            "Epoch 73/100\n",
            "518/518 [==============================] - 1s 2ms/step - loss: 0.4301\n",
            "Epoch 74/100\n",
            "518/518 [==============================] - 1s 2ms/step - loss: 0.4227\n",
            "Epoch 75/100\n",
            "518/518 [==============================] - 1s 2ms/step - loss: 0.4170\n",
            "Epoch 76/100\n",
            "518/518 [==============================] - 1s 2ms/step - loss: 0.4146\n",
            "Epoch 77/100\n",
            "518/518 [==============================] - 1s 2ms/step - loss: 0.4127\n",
            "Epoch 78/100\n",
            "518/518 [==============================] - 1s 2ms/step - loss: 0.4173\n",
            "Epoch 79/100\n",
            "518/518 [==============================] - 1s 2ms/step - loss: 0.4251\n",
            "Epoch 80/100\n",
            "518/518 [==============================] - 1s 2ms/step - loss: 0.4590\n",
            "Epoch 81/100\n",
            "518/518 [==============================] - 1s 2ms/step - loss: 0.4596\n",
            "Epoch 82/100\n",
            "518/518 [==============================] - 1s 2ms/step - loss: 0.4552\n",
            "Epoch 83/100\n",
            "518/518 [==============================] - 1s 2ms/step - loss: 0.4652\n",
            "Epoch 84/100\n",
            "518/518 [==============================] - 1s 2ms/step - loss: 0.4543\n",
            "Epoch 85/100\n",
            "518/518 [==============================] - 1s 2ms/step - loss: 0.4580\n",
            "Epoch 86/100\n",
            "518/518 [==============================] - 1s 2ms/step - loss: 0.4450\n",
            "Epoch 87/100\n",
            "518/518 [==============================] - 1s 2ms/step - loss: 0.4372\n",
            "Epoch 88/100\n",
            "518/518 [==============================] - 1s 2ms/step - loss: 0.4321\n",
            "Epoch 89/100\n",
            "518/518 [==============================] - 1s 2ms/step - loss: 0.4268\n",
            "Epoch 90/100\n",
            "518/518 [==============================] - 1s 2ms/step - loss: 0.4329\n",
            "Epoch 91/100\n",
            "518/518 [==============================] - 1s 2ms/step - loss: 0.4211\n",
            "Epoch 92/100\n",
            "518/518 [==============================] - 1s 2ms/step - loss: 0.4193\n",
            "Epoch 93/100\n",
            "518/518 [==============================] - 1s 2ms/step - loss: 0.4225\n",
            "Epoch 94/100\n",
            "518/518 [==============================] - 1s 2ms/step - loss: 0.4251\n",
            "Epoch 95/100\n",
            "518/518 [==============================] - 1s 2ms/step - loss: 0.4393\n",
            "Epoch 96/100\n",
            "518/518 [==============================] - 1s 2ms/step - loss: 0.4581\n",
            "Epoch 97/100\n",
            "518/518 [==============================] - 1s 2ms/step - loss: 0.4455\n",
            "Epoch 98/100\n",
            "518/518 [==============================] - 1s 2ms/step - loss: 0.4311\n",
            "Epoch 99/100\n",
            "518/518 [==============================] - 1s 2ms/step - loss: 0.4305\n",
            "Epoch 100/100\n",
            "518/518 [==============================] - 1s 2ms/step - loss: 0.4560\n",
            "Pretraining time: 86s\n",
            "Pretrained weights are saved to results/temp/ae_weights.h5\n",
            "Model: \"model_7\"\n",
            "_________________________________________________________________\n",
            "Layer (type)                 Output Shape              Param #   \n",
            "=================================================================\n",
            "input (InputLayer)           (None, 128000)            0         \n",
            "_________________________________________________________________\n",
            "encoder_0 (Dense)            (None, 500)               64000500  \n",
            "_________________________________________________________________\n",
            "encoder_1 (Dense)            (None, 500)               250500    \n",
            "_________________________________________________________________\n",
            "encoder_2 (Dense)            (None, 2000)              1002000   \n",
            "_________________________________________________________________\n",
            "encoder_3 (Dense)            (None, 10)                20010     \n",
            "_________________________________________________________________\n",
            "clustering (ClusteringLayer) (None, 4)                 40        \n",
            "=================================================================\n",
            "Total params: 65,273,050\n",
            "Trainable params: 65,273,050\n",
            "Non-trainable params: 0\n",
            "_________________________________________________________________\n",
            "Update interval 30\n",
            "Save interval 10\n",
            "Initializing cluster centers with k-means.\n"
          ],
          "name": "stdout"
        },
        {
          "output_type": "stream",
          "text": [
            "/usr/local/lib/python3.6/dist-packages/sklearn/utils/linear_assignment_.py:128: FutureWarning: The linear_assignment function is deprecated in 0.21 and will be removed from 0.23. Use scipy.optimize.linear_sum_assignment instead.\n",
            "  FutureWarning)\n"
          ],
          "name": "stderr"
        },
        {
          "output_type": "stream",
          "text": [
            "Iter 0: acc = 0.35907, nmi = 0.02502, ari = 0.01563, vm = 0.02502  ; loss= 0\n",
            "saving model to: ./results/temp/DEC_model_0.h5\n",
            "saving model to: ./results/temp/DEC_model_10.h5\n",
            "saving model to: ./results/temp/DEC_model_20.h5\n"
          ],
          "name": "stdout"
        },
        {
          "output_type": "stream",
          "text": [
            "/usr/local/lib/python3.6/dist-packages/sklearn/utils/linear_assignment_.py:128: FutureWarning: The linear_assignment function is deprecated in 0.21 and will be removed from 0.23. Use scipy.optimize.linear_sum_assignment instead.\n",
            "  FutureWarning)\n"
          ],
          "name": "stderr"
        },
        {
          "output_type": "stream",
          "text": [
            "Iter 30: acc = 0.35907, nmi = 0.02209, ari = 0.01549, vm = 0.02209  ; loss= 0.03573\n",
            "saving model to: ./results/temp/DEC_model_30.h5\n",
            "saving model to: ./results/temp/DEC_model_40.h5\n",
            "saving model to: ./results/temp/DEC_model_50.h5\n"
          ],
          "name": "stdout"
        },
        {
          "output_type": "stream",
          "text": [
            "/usr/local/lib/python3.6/dist-packages/sklearn/utils/linear_assignment_.py:128: FutureWarning: The linear_assignment function is deprecated in 0.21 and will be removed from 0.23. Use scipy.optimize.linear_sum_assignment instead.\n",
            "  FutureWarning)\n"
          ],
          "name": "stderr"
        },
        {
          "output_type": "stream",
          "text": [
            "Iter 60: acc = 0.37066, nmi = 0.02411, ari = 0.02014, vm = 0.02411  ; loss= 0.03351\n",
            "saving model to: ./results/temp/DEC_model_60.h5\n",
            "saving model to: ./results/temp/DEC_model_70.h5\n",
            "saving model to: ./results/temp/DEC_model_80.h5\n"
          ],
          "name": "stdout"
        },
        {
          "output_type": "stream",
          "text": [
            "/usr/local/lib/python3.6/dist-packages/sklearn/utils/linear_assignment_.py:128: FutureWarning: The linear_assignment function is deprecated in 0.21 and will be removed from 0.23. Use scipy.optimize.linear_sum_assignment instead.\n",
            "  FutureWarning)\n"
          ],
          "name": "stderr"
        },
        {
          "output_type": "stream",
          "text": [
            "Iter 90: acc = 0.37838, nmi = 0.03149, ari = 0.02954, vm = 0.03149  ; loss= 0.02567\n",
            "saving model to: ./results/temp/DEC_model_90.h5\n",
            "saving model to: ./results/temp/DEC_model_100.h5\n",
            "saving model to: ./results/temp/DEC_model_110.h5\n"
          ],
          "name": "stdout"
        },
        {
          "output_type": "stream",
          "text": [
            "/usr/local/lib/python3.6/dist-packages/sklearn/utils/linear_assignment_.py:128: FutureWarning: The linear_assignment function is deprecated in 0.21 and will be removed from 0.23. Use scipy.optimize.linear_sum_assignment instead.\n",
            "  FutureWarning)\n"
          ],
          "name": "stderr"
        },
        {
          "output_type": "stream",
          "text": [
            "Iter 120: acc = 0.37645, nmi = 0.03555, ari = 0.03645, vm = 0.03555  ; loss= 0.00758\n",
            "saving model to: ./results/temp/DEC_model_120.h5\n",
            "saving model to: ./results/temp/DEC_model_130.h5\n",
            "saving model to: ./results/temp/DEC_model_140.h5\n"
          ],
          "name": "stdout"
        },
        {
          "output_type": "stream",
          "text": [
            "/usr/local/lib/python3.6/dist-packages/sklearn/utils/linear_assignment_.py:128: FutureWarning: The linear_assignment function is deprecated in 0.21 and will be removed from 0.23. Use scipy.optimize.linear_sum_assignment instead.\n",
            "  FutureWarning)\n"
          ],
          "name": "stderr"
        },
        {
          "output_type": "stream",
          "text": [
            "Iter 150: acc = 0.38031, nmi = 0.03592, ari = 0.03834, vm = 0.03592  ; loss= 0.00467\n",
            "saving model to: ./results/temp/DEC_model_150.h5\n",
            "saving model to: ./results/temp/DEC_model_160.h5\n",
            "saving model to: ./results/temp/DEC_model_170.h5\n"
          ],
          "name": "stdout"
        },
        {
          "output_type": "stream",
          "text": [
            "/usr/local/lib/python3.6/dist-packages/sklearn/utils/linear_assignment_.py:128: FutureWarning: The linear_assignment function is deprecated in 0.21 and will be removed from 0.23. Use scipy.optimize.linear_sum_assignment instead.\n",
            "  FutureWarning)\n"
          ],
          "name": "stderr"
        },
        {
          "output_type": "stream",
          "text": [
            "Iter 180: acc = 0.38803, nmi = 0.03924, ari = 0.04398, vm = 0.03924  ; loss= 0.0033\n",
            "saving model to: ./results/temp/DEC_model_180.h5\n",
            "saving model to: ./results/temp/DEC_model_190.h5\n",
            "saving model to: ./results/temp/DEC_model_200.h5\n"
          ],
          "name": "stdout"
        },
        {
          "output_type": "stream",
          "text": [
            "/usr/local/lib/python3.6/dist-packages/sklearn/utils/linear_assignment_.py:128: FutureWarning: The linear_assignment function is deprecated in 0.21 and will be removed from 0.23. Use scipy.optimize.linear_sum_assignment instead.\n",
            "  FutureWarning)\n"
          ],
          "name": "stderr"
        },
        {
          "output_type": "stream",
          "text": [
            "Iter 210: acc = 0.38803, nmi = 0.04040, ari = 0.04308, vm = 0.04040  ; loss= 0.00276\n",
            "saving model to: ./results/temp/DEC_model_210.h5\n",
            "saving model to: ./results/temp/DEC_model_220.h5\n",
            "saving model to: ./results/temp/DEC_model_230.h5\n"
          ],
          "name": "stdout"
        },
        {
          "output_type": "stream",
          "text": [
            "/usr/local/lib/python3.6/dist-packages/sklearn/utils/linear_assignment_.py:128: FutureWarning: The linear_assignment function is deprecated in 0.21 and will be removed from 0.23. Use scipy.optimize.linear_sum_assignment instead.\n",
            "  FutureWarning)\n"
          ],
          "name": "stderr"
        },
        {
          "output_type": "stream",
          "text": [
            "Iter 240: acc = 0.39189, nmi = 0.03553, ari = 0.04075, vm = 0.03553  ; loss= 0.00235\n",
            "saving model to: ./results/temp/DEC_model_240.h5\n",
            "saving model to: ./results/temp/DEC_model_250.h5\n",
            "saving model to: ./results/temp/DEC_model_260.h5\n"
          ],
          "name": "stdout"
        },
        {
          "output_type": "stream",
          "text": [
            "/usr/local/lib/python3.6/dist-packages/sklearn/utils/linear_assignment_.py:128: FutureWarning: The linear_assignment function is deprecated in 0.21 and will be removed from 0.23. Use scipy.optimize.linear_sum_assignment instead.\n",
            "  FutureWarning)\n"
          ],
          "name": "stderr"
        },
        {
          "output_type": "stream",
          "text": [
            "Iter 270: acc = 0.39189, nmi = 0.03519, ari = 0.04066, vm = 0.03519  ; loss= 0.00202\n",
            "saving model to: ./results/temp/DEC_model_270.h5\n",
            "saving model to: ./results/temp/DEC_model_280.h5\n",
            "saving model to: ./results/temp/DEC_model_290.h5\n"
          ],
          "name": "stdout"
        },
        {
          "output_type": "stream",
          "text": [
            "/usr/local/lib/python3.6/dist-packages/sklearn/utils/linear_assignment_.py:128: FutureWarning: The linear_assignment function is deprecated in 0.21 and will be removed from 0.23. Use scipy.optimize.linear_sum_assignment instead.\n",
            "  FutureWarning)\n"
          ],
          "name": "stderr"
        },
        {
          "output_type": "stream",
          "text": [
            "Iter 300: acc = 0.39768, nmi = 0.03937, ari = 0.04508, vm = 0.03937  ; loss= 0.00175\n",
            "saving model to: ./results/temp/DEC_model_300.h5\n",
            "saving model to: ./results/temp/DEC_model_310.h5\n",
            "saving model to: ./results/temp/DEC_model_320.h5\n"
          ],
          "name": "stdout"
        },
        {
          "output_type": "stream",
          "text": [
            "/usr/local/lib/python3.6/dist-packages/sklearn/utils/linear_assignment_.py:128: FutureWarning: The linear_assignment function is deprecated in 0.21 and will be removed from 0.23. Use scipy.optimize.linear_sum_assignment instead.\n",
            "  FutureWarning)\n"
          ],
          "name": "stderr"
        },
        {
          "output_type": "stream",
          "text": [
            "Iter 330: acc = 0.40541, nmi = 0.04292, ari = 0.04981, vm = 0.04292  ; loss= 0.00154\n",
            "saving model to: ./results/temp/DEC_model_330.h5\n",
            "saving model to: ./results/temp/DEC_model_340.h5\n",
            "saving model to: ./results/temp/DEC_model_350.h5\n"
          ],
          "name": "stdout"
        },
        {
          "output_type": "stream",
          "text": [
            "/usr/local/lib/python3.6/dist-packages/sklearn/utils/linear_assignment_.py:128: FutureWarning: The linear_assignment function is deprecated in 0.21 and will be removed from 0.23. Use scipy.optimize.linear_sum_assignment instead.\n",
            "  FutureWarning)\n"
          ],
          "name": "stderr"
        },
        {
          "output_type": "stream",
          "text": [
            "Iter 360: acc = 0.39768, nmi = 0.03905, ari = 0.04758, vm = 0.03905  ; loss= 0.00135\n",
            "saving model to: ./results/temp/DEC_model_360.h5\n",
            "saving model to: ./results/temp/DEC_model_370.h5\n",
            "saving model to: ./results/temp/DEC_model_380.h5\n"
          ],
          "name": "stdout"
        },
        {
          "output_type": "stream",
          "text": [
            "/usr/local/lib/python3.6/dist-packages/sklearn/utils/linear_assignment_.py:128: FutureWarning: The linear_assignment function is deprecated in 0.21 and will be removed from 0.23. Use scipy.optimize.linear_sum_assignment instead.\n",
            "  FutureWarning)\n"
          ],
          "name": "stderr"
        },
        {
          "output_type": "stream",
          "text": [
            "Iter 390: acc = 0.40154, nmi = 0.04131, ari = 0.04912, vm = 0.04131  ; loss= 0.00119\n",
            "saving model to: ./results/temp/DEC_model_390.h5\n",
            "saving model to: ./results/temp/DEC_model_400.h5\n",
            "saving model to: ./results/temp/DEC_model_410.h5\n"
          ],
          "name": "stdout"
        },
        {
          "output_type": "stream",
          "text": [
            "/usr/local/lib/python3.6/dist-packages/sklearn/utils/linear_assignment_.py:128: FutureWarning: The linear_assignment function is deprecated in 0.21 and will be removed from 0.23. Use scipy.optimize.linear_sum_assignment instead.\n",
            "  FutureWarning)\n"
          ],
          "name": "stderr"
        },
        {
          "output_type": "stream",
          "text": [
            "Iter 420: acc = 0.40154, nmi = 0.03971, ari = 0.05191, vm = 0.03971  ; loss= 0.00105\n",
            "saving model to: ./results/temp/DEC_model_420.h5\n",
            "saving model to: ./results/temp/DEC_model_430.h5\n",
            "saving model to: ./results/temp/DEC_model_440.h5\n"
          ],
          "name": "stdout"
        },
        {
          "output_type": "stream",
          "text": [
            "/usr/local/lib/python3.6/dist-packages/sklearn/utils/linear_assignment_.py:128: FutureWarning: The linear_assignment function is deprecated in 0.21 and will be removed from 0.23. Use scipy.optimize.linear_sum_assignment instead.\n",
            "  FutureWarning)\n"
          ],
          "name": "stderr"
        },
        {
          "output_type": "stream",
          "text": [
            "Iter 450: acc = 0.40347, nmi = 0.04031, ari = 0.05211, vm = 0.04031  ; loss= 0.00091\n",
            "saving model to: ./results/temp/DEC_model_450.h5\n",
            "saving model to: ./results/temp/DEC_model_460.h5\n",
            "saving model to: ./results/temp/DEC_model_470.h5\n"
          ],
          "name": "stdout"
        },
        {
          "output_type": "stream",
          "text": [
            "/usr/local/lib/python3.6/dist-packages/sklearn/utils/linear_assignment_.py:128: FutureWarning: The linear_assignment function is deprecated in 0.21 and will be removed from 0.23. Use scipy.optimize.linear_sum_assignment instead.\n",
            "  FutureWarning)\n"
          ],
          "name": "stderr"
        },
        {
          "output_type": "stream",
          "text": [
            "Iter 480: acc = 0.40154, nmi = 0.03973, ari = 0.05175, vm = 0.03973  ; loss= 0.0008\n",
            "saving model to: ./results/temp/DEC_model_480.h5\n",
            "saving model to: ./results/temp/DEC_model_490.h5\n",
            "saving model to: ./results/temp/DEC_model_500.h5\n"
          ],
          "name": "stdout"
        },
        {
          "output_type": "stream",
          "text": [
            "/usr/local/lib/python3.6/dist-packages/sklearn/utils/linear_assignment_.py:128: FutureWarning: The linear_assignment function is deprecated in 0.21 and will be removed from 0.23. Use scipy.optimize.linear_sum_assignment instead.\n",
            "  FutureWarning)\n"
          ],
          "name": "stderr"
        },
        {
          "output_type": "stream",
          "text": [
            "Iter 510: acc = 0.40347, nmi = 0.04004, ari = 0.05211, vm = 0.04004  ; loss= 0.0007\n",
            "saving model to: ./results/temp/DEC_model_510.h5\n",
            "saving model to: ./results/temp/DEC_model_520.h5\n",
            "saving model to: ./results/temp/DEC_model_530.h5\n"
          ],
          "name": "stdout"
        },
        {
          "output_type": "stream",
          "text": [
            "/usr/local/lib/python3.6/dist-packages/sklearn/utils/linear_assignment_.py:128: FutureWarning: The linear_assignment function is deprecated in 0.21 and will be removed from 0.23. Use scipy.optimize.linear_sum_assignment instead.\n",
            "  FutureWarning)\n"
          ],
          "name": "stderr"
        },
        {
          "output_type": "stream",
          "text": [
            "Iter 540: acc = 0.40347, nmi = 0.03957, ari = 0.05083, vm = 0.03957  ; loss= 0.00061\n",
            "saving model to: ./results/temp/DEC_model_540.h5\n",
            "saving model to: ./results/temp/DEC_model_550.h5\n",
            "saving model to: ./results/temp/DEC_model_560.h5\n"
          ],
          "name": "stdout"
        },
        {
          "output_type": "stream",
          "text": [
            "/usr/local/lib/python3.6/dist-packages/sklearn/utils/linear_assignment_.py:128: FutureWarning: The linear_assignment function is deprecated in 0.21 and will be removed from 0.23. Use scipy.optimize.linear_sum_assignment instead.\n",
            "  FutureWarning)\n"
          ],
          "name": "stderr"
        },
        {
          "output_type": "stream",
          "text": [
            "Iter 570: acc = 0.40541, nmi = 0.03910, ari = 0.05371, vm = 0.03910  ; loss= 0.00055\n",
            "saving model to: ./results/temp/DEC_model_570.h5\n",
            "saving model to: ./results/temp/DEC_model_580.h5\n",
            "saving model to: ./results/temp/DEC_model_590.h5\n"
          ],
          "name": "stdout"
        },
        {
          "output_type": "stream",
          "text": [
            "/usr/local/lib/python3.6/dist-packages/sklearn/utils/linear_assignment_.py:128: FutureWarning: The linear_assignment function is deprecated in 0.21 and will be removed from 0.23. Use scipy.optimize.linear_sum_assignment instead.\n",
            "  FutureWarning)\n"
          ],
          "name": "stderr"
        },
        {
          "output_type": "stream",
          "text": [
            "Iter 600: acc = 0.40347, nmi = 0.03633, ari = 0.05075, vm = 0.03633  ; loss= 0.0005\n",
            "saving model to: ./results/temp/DEC_model_600.h5\n",
            "saving model to: ./results/temp/DEC_model_610.h5\n",
            "saving model to: ./results/temp/DEC_model_620.h5\n"
          ],
          "name": "stdout"
        },
        {
          "output_type": "stream",
          "text": [
            "/usr/local/lib/python3.6/dist-packages/sklearn/utils/linear_assignment_.py:128: FutureWarning: The linear_assignment function is deprecated in 0.21 and will be removed from 0.23. Use scipy.optimize.linear_sum_assignment instead.\n",
            "  FutureWarning)\n"
          ],
          "name": "stderr"
        },
        {
          "output_type": "stream",
          "text": [
            "Iter 630: acc = 0.40541, nmi = 0.03808, ari = 0.05235, vm = 0.03808  ; loss= 0.00045\n",
            "saving model to: ./results/temp/DEC_model_630.h5\n",
            "saving model to: ./results/temp/DEC_model_640.h5\n",
            "saving model to: ./results/temp/DEC_model_650.h5\n"
          ],
          "name": "stdout"
        },
        {
          "output_type": "stream",
          "text": [
            "/usr/local/lib/python3.6/dist-packages/sklearn/utils/linear_assignment_.py:128: FutureWarning: The linear_assignment function is deprecated in 0.21 and will be removed from 0.23. Use scipy.optimize.linear_sum_assignment instead.\n",
            "  FutureWarning)\n"
          ],
          "name": "stderr"
        },
        {
          "output_type": "stream",
          "text": [
            "Iter 660: acc = 0.40347, nmi = 0.03624, ari = 0.05054, vm = 0.03624  ; loss= 0.00041\n",
            "saving model to: ./results/temp/DEC_model_660.h5\n",
            "saving model to: ./results/temp/DEC_model_670.h5\n",
            "saving model to: ./results/temp/DEC_model_680.h5\n"
          ],
          "name": "stdout"
        },
        {
          "output_type": "stream",
          "text": [
            "/usr/local/lib/python3.6/dist-packages/sklearn/utils/linear_assignment_.py:128: FutureWarning: The linear_assignment function is deprecated in 0.21 and will be removed from 0.23. Use scipy.optimize.linear_sum_assignment instead.\n",
            "  FutureWarning)\n"
          ],
          "name": "stderr"
        },
        {
          "output_type": "stream",
          "text": [
            "Iter 690: acc = 0.40541, nmi = 0.03576, ari = 0.05059, vm = 0.03576  ; loss= 0.00037\n",
            "saving model to: ./results/temp/DEC_model_690.h5\n",
            "saving model to: ./results/temp/DEC_model_700.h5\n",
            "saving model to: ./results/temp/DEC_model_710.h5\n"
          ],
          "name": "stdout"
        },
        {
          "output_type": "stream",
          "text": [
            "/usr/local/lib/python3.6/dist-packages/sklearn/utils/linear_assignment_.py:128: FutureWarning: The linear_assignment function is deprecated in 0.21 and will be removed from 0.23. Use scipy.optimize.linear_sum_assignment instead.\n",
            "  FutureWarning)\n",
            "/usr/local/lib/python3.6/dist-packages/sklearn/utils/linear_assignment_.py:128: FutureWarning: The linear_assignment function is deprecated in 0.21 and will be removed from 0.23. Use scipy.optimize.linear_sum_assignment instead.\n",
            "  FutureWarning)\n",
            "/usr/local/lib/python3.6/dist-packages/sklearn/utils/linear_assignment_.py:128: FutureWarning: The linear_assignment function is deprecated in 0.21 and will be removed from 0.23. Use scipy.optimize.linear_sum_assignment instead.\n",
            "  FutureWarning)\n"
          ],
          "name": "stderr"
        },
        {
          "output_type": "stream",
          "text": [
            "Iter 720: acc = 0.40541, nmi = 0.03576, ari = 0.05059, vm = 0.03576  ; loss= 0.00034\n",
            "delta_label  0.0 < tol  0.001\n",
            "Reached tolerance threshold. Stopping training.\n",
            "saving model to: ./results/temp/DEC_model_final.h5\n",
            "acc: 0.40540540540540543\n",
            "clustering time:  100.66434621810913\n",
            "loading dataset...\n",
            "['scriabin_(c)contributors-kunstderfuge/', 'shostakovich_(c)contributors-kunstderfuge/', 'debussy_all/', 'alkan_(c)contributors-kunstderfuge/']\n"
          ],
          "name": "stdout"
        },
        {
          "output_type": "stream",
          "text": [
            "/usr/local/lib/python3.6/dist-packages/scipy/stats/stats.py:2419: RuntimeWarning: invalid value encountered in true_divide\n",
            "  return (a - mns) / sstd\n"
          ],
          "name": "stderr"
        },
        {
          "output_type": "stream",
          "text": [
            "(566, 128000)\n",
            "(566,)\n",
            "...Pretraining...\n",
            "Epoch 1/100\n",
            "566/566 [==============================] - 1s 2ms/step - loss: 0.5997\n",
            "Epoch 2/100\n",
            "566/566 [==============================] - 1s 2ms/step - loss: 0.5997\n",
            "Epoch 3/100\n",
            "566/566 [==============================] - 1s 2ms/step - loss: 0.5997\n",
            "Epoch 4/100\n",
            "566/566 [==============================] - 1s 2ms/step - loss: 0.5995\n",
            "Epoch 5/100\n",
            "566/566 [==============================] - 1s 2ms/step - loss: 0.5977\n",
            "Epoch 6/100\n",
            "566/566 [==============================] - 1s 2ms/step - loss: 0.5976\n",
            "Epoch 7/100\n",
            "566/566 [==============================] - 1s 2ms/step - loss: 0.6120\n",
            "Epoch 8/100\n",
            "566/566 [==============================] - 1s 2ms/step - loss: 0.5976\n",
            "Epoch 9/100\n",
            "566/566 [==============================] - 1s 2ms/step - loss: 0.5964\n",
            "Epoch 10/100\n",
            "566/566 [==============================] - 1s 2ms/step - loss: 0.5921\n",
            "Epoch 11/100\n",
            "566/566 [==============================] - 1s 2ms/step - loss: 0.5919\n",
            "Epoch 12/100\n",
            "566/566 [==============================] - 1s 2ms/step - loss: 0.5915\n",
            "Epoch 13/100\n",
            "566/566 [==============================] - 1s 2ms/step - loss: 0.5972\n",
            "Epoch 14/100\n",
            "566/566 [==============================] - 1s 2ms/step - loss: 0.5925\n",
            "Epoch 15/100\n",
            "566/566 [==============================] - 1s 2ms/step - loss: 0.5975\n",
            "Epoch 16/100\n",
            "566/566 [==============================] - 1s 2ms/step - loss: 0.5899\n",
            "Epoch 17/100\n",
            "566/566 [==============================] - 1s 2ms/step - loss: 0.5879\n",
            "Epoch 18/100\n",
            "566/566 [==============================] - 1s 2ms/step - loss: 0.5978\n",
            "Epoch 19/100\n",
            "566/566 [==============================] - 1s 2ms/step - loss: 0.5892\n",
            "Epoch 20/100\n",
            "566/566 [==============================] - 1s 2ms/step - loss: 0.5919\n",
            "Epoch 21/100\n",
            "566/566 [==============================] - 1s 2ms/step - loss: 0.5887\n",
            "Epoch 22/100\n",
            "566/566 [==============================] - 1s 2ms/step - loss: 0.5867\n",
            "Epoch 23/100\n",
            "566/566 [==============================] - 1s 2ms/step - loss: 0.5825\n",
            "Epoch 24/100\n",
            "566/566 [==============================] - 1s 2ms/step - loss: 0.5753\n",
            "Epoch 25/100\n",
            "566/566 [==============================] - 1s 2ms/step - loss: 0.5765\n",
            "Epoch 26/100\n",
            "566/566 [==============================] - 1s 2ms/step - loss: 0.5714\n",
            "Epoch 27/100\n",
            "566/566 [==============================] - 1s 2ms/step - loss: 0.5687\n",
            "Epoch 28/100\n",
            "566/566 [==============================] - 1s 2ms/step - loss: 0.5655\n",
            "Epoch 29/100\n",
            "566/566 [==============================] - 1s 2ms/step - loss: 0.5622\n",
            "Epoch 30/100\n",
            "566/566 [==============================] - 1s 2ms/step - loss: 0.5624\n",
            "Epoch 31/100\n",
            "566/566 [==============================] - 1s 2ms/step - loss: 0.5590\n",
            "Epoch 32/100\n",
            "566/566 [==============================] - 1s 2ms/step - loss: 0.5626\n",
            "Epoch 33/100\n",
            "566/566 [==============================] - 1s 2ms/step - loss: 0.5581\n",
            "Epoch 34/100\n",
            "566/566 [==============================] - 1s 2ms/step - loss: 0.5590\n",
            "Epoch 35/100\n",
            "566/566 [==============================] - 1s 2ms/step - loss: 0.5523\n",
            "Epoch 36/100\n",
            "566/566 [==============================] - 1s 2ms/step - loss: 0.5483\n",
            "Epoch 37/100\n",
            "566/566 [==============================] - 1s 2ms/step - loss: 0.5419\n",
            "Epoch 38/100\n",
            "566/566 [==============================] - 1s 2ms/step - loss: 0.5355\n",
            "Epoch 39/100\n",
            "566/566 [==============================] - 1s 2ms/step - loss: 0.5279\n",
            "Epoch 40/100\n",
            "566/566 [==============================] - 1s 2ms/step - loss: 0.5256\n",
            "Epoch 41/100\n",
            "566/566 [==============================] - 1s 2ms/step - loss: 0.5183\n",
            "Epoch 42/100\n",
            "566/566 [==============================] - 1s 2ms/step - loss: 0.5148\n",
            "Epoch 43/100\n",
            "566/566 [==============================] - 1s 2ms/step - loss: 0.5104\n",
            "Epoch 44/100\n",
            "566/566 [==============================] - 1s 2ms/step - loss: 0.5086\n",
            "Epoch 45/100\n",
            "566/566 [==============================] - 1s 2ms/step - loss: 0.5060\n",
            "Epoch 46/100\n",
            "566/566 [==============================] - 1s 2ms/step - loss: 0.5009\n",
            "Epoch 47/100\n",
            "566/566 [==============================] - 1s 2ms/step - loss: 0.4980\n",
            "Epoch 48/100\n",
            "566/566 [==============================] - 1s 2ms/step - loss: 0.4948\n",
            "Epoch 49/100\n",
            "566/566 [==============================] - 1s 2ms/step - loss: 0.4912\n",
            "Epoch 50/100\n",
            "566/566 [==============================] - 1s 2ms/step - loss: 0.4833\n",
            "Epoch 51/100\n",
            "566/566 [==============================] - 1s 2ms/step - loss: 0.4800\n",
            "Epoch 52/100\n",
            "566/566 [==============================] - 1s 2ms/step - loss: 0.4738\n",
            "Epoch 53/100\n",
            "566/566 [==============================] - 1s 2ms/step - loss: 0.4702\n",
            "Epoch 54/100\n",
            "566/566 [==============================] - 1s 2ms/step - loss: 0.4681\n",
            "Epoch 55/100\n",
            "566/566 [==============================] - 1s 2ms/step - loss: 0.4672\n",
            "Epoch 56/100\n",
            "566/566 [==============================] - 1s 2ms/step - loss: 0.4637\n",
            "Epoch 57/100\n",
            "566/566 [==============================] - 1s 2ms/step - loss: 0.4624\n",
            "Epoch 58/100\n",
            "566/566 [==============================] - 1s 2ms/step - loss: 0.4589\n",
            "Epoch 59/100\n",
            "566/566 [==============================] - 1s 2ms/step - loss: 0.4563\n",
            "Epoch 60/100\n",
            "566/566 [==============================] - 1s 2ms/step - loss: 0.4551\n",
            "Epoch 61/100\n",
            "566/566 [==============================] - 1s 2ms/step - loss: 0.4481\n",
            "Epoch 62/100\n",
            "566/566 [==============================] - 1s 2ms/step - loss: 0.4430\n",
            "Epoch 63/100\n",
            "566/566 [==============================] - 1s 2ms/step - loss: 0.4392\n",
            "Epoch 64/100\n",
            "566/566 [==============================] - 1s 2ms/step - loss: 0.4300\n",
            "Epoch 65/100\n",
            "566/566 [==============================] - 1s 2ms/step - loss: 0.4261\n",
            "Epoch 66/100\n",
            "566/566 [==============================] - 1s 2ms/step - loss: 0.4221\n",
            "Epoch 67/100\n",
            "566/566 [==============================] - 1s 2ms/step - loss: 0.4172\n",
            "Epoch 68/100\n",
            "566/566 [==============================] - 1s 2ms/step - loss: 0.4152\n",
            "Epoch 69/100\n",
            "566/566 [==============================] - 1s 2ms/step - loss: 0.4100\n",
            "Epoch 70/100\n",
            "566/566 [==============================] - 1s 2ms/step - loss: 0.4042\n",
            "Epoch 71/100\n",
            "566/566 [==============================] - 1s 2ms/step - loss: 0.3990\n",
            "Epoch 72/100\n",
            "566/566 [==============================] - 1s 2ms/step - loss: 0.3941\n",
            "Epoch 73/100\n",
            "566/566 [==============================] - 1s 2ms/step - loss: 0.3890\n",
            "Epoch 74/100\n",
            "566/566 [==============================] - 1s 2ms/step - loss: 0.3847\n",
            "Epoch 75/100\n",
            "566/566 [==============================] - 1s 2ms/step - loss: 0.3801\n",
            "Epoch 76/100\n",
            "566/566 [==============================] - 1s 2ms/step - loss: 0.3772\n",
            "Epoch 77/100\n",
            "566/566 [==============================] - 1s 2ms/step - loss: 0.3749\n",
            "Epoch 78/100\n",
            "566/566 [==============================] - 1s 2ms/step - loss: 0.3955\n",
            "Epoch 79/100\n",
            "566/566 [==============================] - 1s 2ms/step - loss: 0.3759\n",
            "Epoch 80/100\n",
            "566/566 [==============================] - 1s 2ms/step - loss: 0.3743\n",
            "Epoch 81/100\n",
            "566/566 [==============================] - 1s 2ms/step - loss: 0.3687\n",
            "Epoch 82/100\n",
            "566/566 [==============================] - 1s 2ms/step - loss: 0.3652\n",
            "Epoch 83/100\n",
            "566/566 [==============================] - 1s 2ms/step - loss: 0.3607\n",
            "Epoch 84/100\n",
            "566/566 [==============================] - 1s 2ms/step - loss: 0.3549\n",
            "Epoch 85/100\n",
            "566/566 [==============================] - 1s 2ms/step - loss: 0.3510\n",
            "Epoch 86/100\n",
            "566/566 [==============================] - 1s 2ms/step - loss: 0.3414\n",
            "Epoch 87/100\n",
            "566/566 [==============================] - 1s 2ms/step - loss: 0.3325\n",
            "Epoch 88/100\n",
            "566/566 [==============================] - 1s 2ms/step - loss: 0.3257\n",
            "Epoch 89/100\n",
            "566/566 [==============================] - 1s 2ms/step - loss: 0.3251\n",
            "Epoch 90/100\n",
            "566/566 [==============================] - 1s 2ms/step - loss: 0.3169\n",
            "Epoch 91/100\n",
            "566/566 [==============================] - 1s 2ms/step - loss: 0.3126\n",
            "Epoch 92/100\n",
            "566/566 [==============================] - 1s 2ms/step - loss: 0.3091\n",
            "Epoch 93/100\n",
            "566/566 [==============================] - 1s 2ms/step - loss: 0.3042\n",
            "Epoch 94/100\n",
            "566/566 [==============================] - 1s 2ms/step - loss: 0.2983\n",
            "Epoch 95/100\n",
            "566/566 [==============================] - 1s 2ms/step - loss: 0.2930\n",
            "Epoch 96/100\n",
            "566/566 [==============================] - 1s 2ms/step - loss: 0.2887\n",
            "Epoch 97/100\n",
            "566/566 [==============================] - 1s 2ms/step - loss: 0.2821\n",
            "Epoch 98/100\n",
            "566/566 [==============================] - 1s 2ms/step - loss: 0.2781\n",
            "Epoch 99/100\n",
            "566/566 [==============================] - 1s 2ms/step - loss: 0.2736\n",
            "Epoch 100/100\n",
            "566/566 [==============================] - 1s 2ms/step - loss: 0.2692\n",
            "Pretraining time: 92s\n",
            "Pretrained weights are saved to results/temp/ae_weights.h5\n",
            "Model: \"model_8\"\n",
            "_________________________________________________________________\n",
            "Layer (type)                 Output Shape              Param #   \n",
            "=================================================================\n",
            "input (InputLayer)           (None, 128000)            0         \n",
            "_________________________________________________________________\n",
            "encoder_0 (Dense)            (None, 500)               64000500  \n",
            "_________________________________________________________________\n",
            "encoder_1 (Dense)            (None, 500)               250500    \n",
            "_________________________________________________________________\n",
            "encoder_2 (Dense)            (None, 2000)              1002000   \n",
            "_________________________________________________________________\n",
            "encoder_3 (Dense)            (None, 10)                20010     \n",
            "_________________________________________________________________\n",
            "clustering (ClusteringLayer) (None, 4)                 40        \n",
            "=================================================================\n",
            "Total params: 65,273,050\n",
            "Trainable params: 65,273,050\n",
            "Non-trainable params: 0\n",
            "_________________________________________________________________\n",
            "Update interval 30\n",
            "Save interval 10\n",
            "Initializing cluster centers with k-means.\n"
          ],
          "name": "stdout"
        },
        {
          "output_type": "stream",
          "text": [
            "/usr/local/lib/python3.6/dist-packages/sklearn/utils/linear_assignment_.py:128: FutureWarning: The linear_assignment function is deprecated in 0.21 and will be removed from 0.23. Use scipy.optimize.linear_sum_assignment instead.\n",
            "  FutureWarning)\n"
          ],
          "name": "stderr"
        },
        {
          "output_type": "stream",
          "text": [
            "Iter 0: acc = 0.37456, nmi = 0.03096, ari = 0.00427, vm = 0.03096  ; loss= 0\n",
            "saving model to: ./results/temp/DEC_model_0.h5\n",
            "saving model to: ./results/temp/DEC_model_10.h5\n",
            "saving model to: ./results/temp/DEC_model_20.h5\n"
          ],
          "name": "stdout"
        },
        {
          "output_type": "stream",
          "text": [
            "/usr/local/lib/python3.6/dist-packages/sklearn/utils/linear_assignment_.py:128: FutureWarning: The linear_assignment function is deprecated in 0.21 and will be removed from 0.23. Use scipy.optimize.linear_sum_assignment instead.\n",
            "  FutureWarning)\n"
          ],
          "name": "stderr"
        },
        {
          "output_type": "stream",
          "text": [
            "Iter 30: acc = 0.36219, nmi = 0.02997, ari = 0.00624, vm = 0.02997  ; loss= 0.06444\n",
            "saving model to: ./results/temp/DEC_model_30.h5\n",
            "saving model to: ./results/temp/DEC_model_40.h5\n",
            "saving model to: ./results/temp/DEC_model_50.h5\n"
          ],
          "name": "stdout"
        },
        {
          "output_type": "stream",
          "text": [
            "/usr/local/lib/python3.6/dist-packages/sklearn/utils/linear_assignment_.py:128: FutureWarning: The linear_assignment function is deprecated in 0.21 and will be removed from 0.23. Use scipy.optimize.linear_sum_assignment instead.\n",
            "  FutureWarning)\n"
          ],
          "name": "stderr"
        },
        {
          "output_type": "stream",
          "text": [
            "Iter 60: acc = 0.34982, nmi = 0.02701, ari = 0.01154, vm = 0.02701  ; loss= 0.06588\n",
            "saving model to: ./results/temp/DEC_model_60.h5\n",
            "saving model to: ./results/temp/DEC_model_70.h5\n",
            "saving model to: ./results/temp/DEC_model_80.h5\n"
          ],
          "name": "stdout"
        },
        {
          "output_type": "stream",
          "text": [
            "/usr/local/lib/python3.6/dist-packages/sklearn/utils/linear_assignment_.py:128: FutureWarning: The linear_assignment function is deprecated in 0.21 and will be removed from 0.23. Use scipy.optimize.linear_sum_assignment instead.\n",
            "  FutureWarning)\n"
          ],
          "name": "stderr"
        },
        {
          "output_type": "stream",
          "text": [
            "Iter 90: acc = 0.34629, nmi = 0.02588, ari = 0.01209, vm = 0.02588  ; loss= 0.07181\n",
            "saving model to: ./results/temp/DEC_model_90.h5\n",
            "saving model to: ./results/temp/DEC_model_100.h5\n",
            "saving model to: ./results/temp/DEC_model_110.h5\n"
          ],
          "name": "stdout"
        },
        {
          "output_type": "stream",
          "text": [
            "/usr/local/lib/python3.6/dist-packages/sklearn/utils/linear_assignment_.py:128: FutureWarning: The linear_assignment function is deprecated in 0.21 and will be removed from 0.23. Use scipy.optimize.linear_sum_assignment instead.\n",
            "  FutureWarning)\n"
          ],
          "name": "stderr"
        },
        {
          "output_type": "stream",
          "text": [
            "Iter 120: acc = 0.34276, nmi = 0.02241, ari = 0.01564, vm = 0.02241  ; loss= 0.07604\n",
            "saving model to: ./results/temp/DEC_model_120.h5\n",
            "saving model to: ./results/temp/DEC_model_130.h5\n",
            "saving model to: ./results/temp/DEC_model_140.h5\n"
          ],
          "name": "stdout"
        },
        {
          "output_type": "stream",
          "text": [
            "/usr/local/lib/python3.6/dist-packages/sklearn/utils/linear_assignment_.py:128: FutureWarning: The linear_assignment function is deprecated in 0.21 and will be removed from 0.23. Use scipy.optimize.linear_sum_assignment instead.\n",
            "  FutureWarning)\n"
          ],
          "name": "stderr"
        },
        {
          "output_type": "stream",
          "text": [
            "Iter 150: acc = 0.33216, nmi = 0.02071, ari = 0.01349, vm = 0.02071  ; loss= 0.07844\n",
            "saving model to: ./results/temp/DEC_model_150.h5\n",
            "saving model to: ./results/temp/DEC_model_160.h5\n",
            "saving model to: ./results/temp/DEC_model_170.h5\n"
          ],
          "name": "stdout"
        },
        {
          "output_type": "stream",
          "text": [
            "/usr/local/lib/python3.6/dist-packages/sklearn/utils/linear_assignment_.py:128: FutureWarning: The linear_assignment function is deprecated in 0.21 and will be removed from 0.23. Use scipy.optimize.linear_sum_assignment instead.\n",
            "  FutureWarning)\n"
          ],
          "name": "stderr"
        },
        {
          "output_type": "stream",
          "text": [
            "Iter 180: acc = 0.32862, nmi = 0.02075, ari = 0.01430, vm = 0.02075  ; loss= 0.07966\n",
            "saving model to: ./results/temp/DEC_model_180.h5\n",
            "saving model to: ./results/temp/DEC_model_190.h5\n",
            "saving model to: ./results/temp/DEC_model_200.h5\n"
          ],
          "name": "stdout"
        },
        {
          "output_type": "stream",
          "text": [
            "/usr/local/lib/python3.6/dist-packages/sklearn/utils/linear_assignment_.py:128: FutureWarning: The linear_assignment function is deprecated in 0.21 and will be removed from 0.23. Use scipy.optimize.linear_sum_assignment instead.\n",
            "  FutureWarning)\n"
          ],
          "name": "stderr"
        },
        {
          "output_type": "stream",
          "text": [
            "Iter 210: acc = 0.32686, nmi = 0.02052, ari = 0.01381, vm = 0.02052  ; loss= 0.07963\n",
            "saving model to: ./results/temp/DEC_model_210.h5\n",
            "saving model to: ./results/temp/DEC_model_220.h5\n",
            "saving model to: ./results/temp/DEC_model_230.h5\n"
          ],
          "name": "stdout"
        },
        {
          "output_type": "stream",
          "text": [
            "/usr/local/lib/python3.6/dist-packages/sklearn/utils/linear_assignment_.py:128: FutureWarning: The linear_assignment function is deprecated in 0.21 and will be removed from 0.23. Use scipy.optimize.linear_sum_assignment instead.\n",
            "  FutureWarning)\n"
          ],
          "name": "stderr"
        },
        {
          "output_type": "stream",
          "text": [
            "Iter 240: acc = 0.32686, nmi = 0.01927, ari = 0.01291, vm = 0.01927  ; loss= 0.0782\n",
            "saving model to: ./results/temp/DEC_model_240.h5\n",
            "saving model to: ./results/temp/DEC_model_250.h5\n",
            "saving model to: ./results/temp/DEC_model_260.h5\n"
          ],
          "name": "stdout"
        },
        {
          "output_type": "stream",
          "text": [
            "/usr/local/lib/python3.6/dist-packages/sklearn/utils/linear_assignment_.py:128: FutureWarning: The linear_assignment function is deprecated in 0.21 and will be removed from 0.23. Use scipy.optimize.linear_sum_assignment instead.\n",
            "  FutureWarning)\n"
          ],
          "name": "stderr"
        },
        {
          "output_type": "stream",
          "text": [
            "Iter 270: acc = 0.32509, nmi = 0.01734, ari = 0.01284, vm = 0.01734  ; loss= 0.07482\n",
            "saving model to: ./results/temp/DEC_model_270.h5\n",
            "saving model to: ./results/temp/DEC_model_280.h5\n",
            "saving model to: ./results/temp/DEC_model_290.h5\n"
          ],
          "name": "stdout"
        },
        {
          "output_type": "stream",
          "text": [
            "/usr/local/lib/python3.6/dist-packages/sklearn/utils/linear_assignment_.py:128: FutureWarning: The linear_assignment function is deprecated in 0.21 and will be removed from 0.23. Use scipy.optimize.linear_sum_assignment instead.\n",
            "  FutureWarning)\n"
          ],
          "name": "stderr"
        },
        {
          "output_type": "stream",
          "text": [
            "Iter 300: acc = 0.32332, nmi = 0.01690, ari = 0.01285, vm = 0.01690  ; loss= 0.06886\n",
            "saving model to: ./results/temp/DEC_model_300.h5\n",
            "saving model to: ./results/temp/DEC_model_310.h5\n",
            "saving model to: ./results/temp/DEC_model_320.h5\n"
          ],
          "name": "stdout"
        },
        {
          "output_type": "stream",
          "text": [
            "/usr/local/lib/python3.6/dist-packages/sklearn/utils/linear_assignment_.py:128: FutureWarning: The linear_assignment function is deprecated in 0.21 and will be removed from 0.23. Use scipy.optimize.linear_sum_assignment instead.\n",
            "  FutureWarning)\n"
          ],
          "name": "stderr"
        },
        {
          "output_type": "stream",
          "text": [
            "Iter 330: acc = 0.31979, nmi = 0.01696, ari = 0.01116, vm = 0.01696  ; loss= 0.06041\n",
            "saving model to: ./results/temp/DEC_model_330.h5\n",
            "saving model to: ./results/temp/DEC_model_340.h5\n",
            "saving model to: ./results/temp/DEC_model_350.h5\n"
          ],
          "name": "stdout"
        },
        {
          "output_type": "stream",
          "text": [
            "/usr/local/lib/python3.6/dist-packages/sklearn/utils/linear_assignment_.py:128: FutureWarning: The linear_assignment function is deprecated in 0.21 and will be removed from 0.23. Use scipy.optimize.linear_sum_assignment instead.\n",
            "  FutureWarning)\n"
          ],
          "name": "stderr"
        },
        {
          "output_type": "stream",
          "text": [
            "Iter 360: acc = 0.31802, nmi = 0.01721, ari = 0.01122, vm = 0.01721  ; loss= 0.05111\n",
            "saving model to: ./results/temp/DEC_model_360.h5\n",
            "saving model to: ./results/temp/DEC_model_370.h5\n",
            "saving model to: ./results/temp/DEC_model_380.h5\n"
          ],
          "name": "stdout"
        },
        {
          "output_type": "stream",
          "text": [
            "/usr/local/lib/python3.6/dist-packages/sklearn/utils/linear_assignment_.py:128: FutureWarning: The linear_assignment function is deprecated in 0.21 and will be removed from 0.23. Use scipy.optimize.linear_sum_assignment instead.\n",
            "  FutureWarning)\n"
          ],
          "name": "stderr"
        },
        {
          "output_type": "stream",
          "text": [
            "Iter 390: acc = 0.31625, nmi = 0.01790, ari = 0.01083, vm = 0.01790  ; loss= 0.04263\n",
            "saving model to: ./results/temp/DEC_model_390.h5\n",
            "saving model to: ./results/temp/DEC_model_400.h5\n",
            "saving model to: ./results/temp/DEC_model_410.h5\n"
          ],
          "name": "stdout"
        },
        {
          "output_type": "stream",
          "text": [
            "/usr/local/lib/python3.6/dist-packages/sklearn/utils/linear_assignment_.py:128: FutureWarning: The linear_assignment function is deprecated in 0.21 and will be removed from 0.23. Use scipy.optimize.linear_sum_assignment instead.\n",
            "  FutureWarning)\n"
          ],
          "name": "stderr"
        },
        {
          "output_type": "stream",
          "text": [
            "Iter 420: acc = 0.31802, nmi = 0.01827, ari = 0.01121, vm = 0.01827  ; loss= 0.03527\n",
            "saving model to: ./results/temp/DEC_model_420.h5\n",
            "saving model to: ./results/temp/DEC_model_430.h5\n",
            "saving model to: ./results/temp/DEC_model_440.h5\n"
          ],
          "name": "stdout"
        },
        {
          "output_type": "stream",
          "text": [
            "/usr/local/lib/python3.6/dist-packages/sklearn/utils/linear_assignment_.py:128: FutureWarning: The linear_assignment function is deprecated in 0.21 and will be removed from 0.23. Use scipy.optimize.linear_sum_assignment instead.\n",
            "  FutureWarning)\n"
          ],
          "name": "stderr"
        },
        {
          "output_type": "stream",
          "text": [
            "Iter 450: acc = 0.32155, nmi = 0.01977, ari = 0.01328, vm = 0.01977  ; loss= 0.02942\n",
            "saving model to: ./results/temp/DEC_model_450.h5\n",
            "saving model to: ./results/temp/DEC_model_460.h5\n",
            "saving model to: ./results/temp/DEC_model_470.h5\n"
          ],
          "name": "stdout"
        },
        {
          "output_type": "stream",
          "text": [
            "/usr/local/lib/python3.6/dist-packages/sklearn/utils/linear_assignment_.py:128: FutureWarning: The linear_assignment function is deprecated in 0.21 and will be removed from 0.23. Use scipy.optimize.linear_sum_assignment instead.\n",
            "  FutureWarning)\n"
          ],
          "name": "stderr"
        },
        {
          "output_type": "stream",
          "text": [
            "Iter 480: acc = 0.32155, nmi = 0.01897, ari = 0.01251, vm = 0.01897  ; loss= 0.02476\n",
            "saving model to: ./results/temp/DEC_model_480.h5\n",
            "saving model to: ./results/temp/DEC_model_490.h5\n",
            "saving model to: ./results/temp/DEC_model_500.h5\n"
          ],
          "name": "stdout"
        },
        {
          "output_type": "stream",
          "text": [
            "/usr/local/lib/python3.6/dist-packages/sklearn/utils/linear_assignment_.py:128: FutureWarning: The linear_assignment function is deprecated in 0.21 and will be removed from 0.23. Use scipy.optimize.linear_sum_assignment instead.\n",
            "  FutureWarning)\n"
          ],
          "name": "stderr"
        },
        {
          "output_type": "stream",
          "text": [
            "Iter 510: acc = 0.32155, nmi = 0.01843, ari = 0.01310, vm = 0.01843  ; loss= 0.02106\n",
            "saving model to: ./results/temp/DEC_model_510.h5\n",
            "saving model to: ./results/temp/DEC_model_520.h5\n",
            "saving model to: ./results/temp/DEC_model_530.h5\n"
          ],
          "name": "stdout"
        },
        {
          "output_type": "stream",
          "text": [
            "/usr/local/lib/python3.6/dist-packages/sklearn/utils/linear_assignment_.py:128: FutureWarning: The linear_assignment function is deprecated in 0.21 and will be removed from 0.23. Use scipy.optimize.linear_sum_assignment instead.\n",
            "  FutureWarning)\n"
          ],
          "name": "stderr"
        },
        {
          "output_type": "stream",
          "text": [
            "Iter 540: acc = 0.32155, nmi = 0.01900, ari = 0.01385, vm = 0.01900  ; loss= 0.01797\n",
            "saving model to: ./results/temp/DEC_model_540.h5\n",
            "saving model to: ./results/temp/DEC_model_550.h5\n",
            "saving model to: ./results/temp/DEC_model_560.h5\n"
          ],
          "name": "stdout"
        },
        {
          "output_type": "stream",
          "text": [
            "/usr/local/lib/python3.6/dist-packages/sklearn/utils/linear_assignment_.py:128: FutureWarning: The linear_assignment function is deprecated in 0.21 and will be removed from 0.23. Use scipy.optimize.linear_sum_assignment instead.\n",
            "  FutureWarning)\n"
          ],
          "name": "stderr"
        },
        {
          "output_type": "stream",
          "text": [
            "Iter 570: acc = 0.32155, nmi = 0.01871, ari = 0.01396, vm = 0.01871  ; loss= 0.01539\n",
            "saving model to: ./results/temp/DEC_model_570.h5\n",
            "saving model to: ./results/temp/DEC_model_580.h5\n",
            "saving model to: ./results/temp/DEC_model_590.h5\n",
            "Iter 600: acc = 0.32155, nmi = 0.01871, ari = 0.01396, vm = 0.01871  ; loss= 0.01341\n",
            "delta_label  0.0 < tol  0.001\n",
            "Reached tolerance threshold. Stopping training.\n",
            "saving model to: ./results/temp/DEC_model_final.h5\n",
            "acc: 0.3215547703180212\n",
            "clustering time:  91.62260103225708\n"
          ],
          "name": "stdout"
        },
        {
          "output_type": "stream",
          "text": [
            "/usr/local/lib/python3.6/dist-packages/sklearn/utils/linear_assignment_.py:128: FutureWarning: The linear_assignment function is deprecated in 0.21 and will be removed from 0.23. Use scipy.optimize.linear_sum_assignment instead.\n",
            "  FutureWarning)\n",
            "/usr/local/lib/python3.6/dist-packages/sklearn/utils/linear_assignment_.py:128: FutureWarning: The linear_assignment function is deprecated in 0.21 and will be removed from 0.23. Use scipy.optimize.linear_sum_assignment instead.\n",
            "  FutureWarning)\n",
            "/usr/local/lib/python3.6/dist-packages/sklearn/utils/linear_assignment_.py:128: FutureWarning: The linear_assignment function is deprecated in 0.21 and will be removed from 0.23. Use scipy.optimize.linear_sum_assignment instead.\n",
            "  FutureWarning)\n"
          ],
          "name": "stderr"
        },
        {
          "output_type": "error",
          "ename": "SystemExit",
          "evalue": "ignored",
          "traceback": [
            "An exception has occurred, use %tb to see the full traceback.\n",
            "\u001b[0;31mSystemExit\u001b[0m\n"
          ]
        },
        {
          "output_type": "stream",
          "text": [
            "/usr/local/lib/python3.6/dist-packages/IPython/core/interactiveshell.py:2890: UserWarning: To exit: use 'exit', 'quit', or Ctrl-D.\n",
            "  warn(\"To exit: use 'exit', 'quit', or Ctrl-D.\", stacklevel=1)\n"
          ],
          "name": "stderr"
        }
      ]
    },
    {
      "cell_type": "code",
      "metadata": {
        "id": "xU_KUy9JXtDU",
        "colab_type": "code",
        "colab": {}
      },
      "source": [
        "from google.colab import drive\n",
        "drive.mount('/content/drive')"
      ],
      "execution_count": 0,
      "outputs": []
    },
    {
      "cell_type": "code",
      "metadata": {
        "id": "K5f6I8s1HrP2",
        "colab_type": "code",
        "colab": {}
      },
      "source": [
        "# "
      ],
      "execution_count": 0,
      "outputs": []
    }
  ]
}